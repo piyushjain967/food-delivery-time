{
 "cells": [
  {
   "cell_type": "code",
   "execution_count": 1,
   "metadata": {},
   "outputs": [],
   "source": [
    "import numpy as np\n",
    "import pandas as pd\n",
    "import matplotlib.pyplot as plt\n",
    "import seaborn as sns\n"
   ]
  },
  {
   "cell_type": "code",
   "execution_count": 2,
   "metadata": {},
   "outputs": [],
   "source": [
    "train=pd.read_excel(\"Data_Train.xlsx\")"
   ]
  },
  {
   "cell_type": "code",
   "execution_count": 3,
   "metadata": {},
   "outputs": [],
   "source": [
    "test=pd.read_excel(\"Data_Test.xlsx\")"
   ]
  },
  {
   "cell_type": "code",
   "execution_count": 4,
   "metadata": {},
   "outputs": [
    {
     "data": {
      "text/html": [
       "<div>\n",
       "<style scoped>\n",
       "    .dataframe tbody tr th:only-of-type {\n",
       "        vertical-align: middle;\n",
       "    }\n",
       "\n",
       "    .dataframe tbody tr th {\n",
       "        vertical-align: top;\n",
       "    }\n",
       "\n",
       "    .dataframe thead th {\n",
       "        text-align: right;\n",
       "    }\n",
       "</style>\n",
       "<table border=\"1\" class=\"dataframe\">\n",
       "  <thead>\n",
       "    <tr style=\"text-align: right;\">\n",
       "      <th></th>\n",
       "      <th>Restaurant</th>\n",
       "      <th>Location</th>\n",
       "      <th>Cuisines</th>\n",
       "      <th>Average_Cost</th>\n",
       "      <th>Minimum_Order</th>\n",
       "      <th>Rating</th>\n",
       "      <th>Votes</th>\n",
       "      <th>Reviews</th>\n",
       "      <th>Delivery_Time</th>\n",
       "    </tr>\n",
       "  </thead>\n",
       "  <tbody>\n",
       "    <tr>\n",
       "      <th>0</th>\n",
       "      <td>ID_6321</td>\n",
       "      <td>FTI College, Law College Road, Pune</td>\n",
       "      <td>Fast Food, Rolls, Burger, Salad, Wraps</td>\n",
       "      <td>₹200</td>\n",
       "      <td>₹50</td>\n",
       "      <td>3.5</td>\n",
       "      <td>12</td>\n",
       "      <td>4</td>\n",
       "      <td>30 minutes</td>\n",
       "    </tr>\n",
       "    <tr>\n",
       "      <th>1</th>\n",
       "      <td>ID_2882</td>\n",
       "      <td>Sector 3, Marathalli</td>\n",
       "      <td>Ice Cream, Desserts</td>\n",
       "      <td>₹100</td>\n",
       "      <td>₹50</td>\n",
       "      <td>3.5</td>\n",
       "      <td>11</td>\n",
       "      <td>4</td>\n",
       "      <td>30 minutes</td>\n",
       "    </tr>\n",
       "    <tr>\n",
       "      <th>2</th>\n",
       "      <td>ID_1595</td>\n",
       "      <td>Mumbai Central</td>\n",
       "      <td>Italian, Street Food, Fast Food</td>\n",
       "      <td>₹150</td>\n",
       "      <td>₹50</td>\n",
       "      <td>3.6</td>\n",
       "      <td>99</td>\n",
       "      <td>30</td>\n",
       "      <td>65 minutes</td>\n",
       "    </tr>\n",
       "    <tr>\n",
       "      <th>3</th>\n",
       "      <td>ID_5929</td>\n",
       "      <td>Sector 1, Noida</td>\n",
       "      <td>Mughlai, North Indian, Chinese</td>\n",
       "      <td>₹250</td>\n",
       "      <td>₹99</td>\n",
       "      <td>3.7</td>\n",
       "      <td>176</td>\n",
       "      <td>95</td>\n",
       "      <td>30 minutes</td>\n",
       "    </tr>\n",
       "    <tr>\n",
       "      <th>4</th>\n",
       "      <td>ID_6123</td>\n",
       "      <td>Rmz Centennial, I Gate, Whitefield</td>\n",
       "      <td>Cafe, Beverages</td>\n",
       "      <td>₹200</td>\n",
       "      <td>₹99</td>\n",
       "      <td>3.2</td>\n",
       "      <td>521</td>\n",
       "      <td>235</td>\n",
       "      <td>65 minutes</td>\n",
       "    </tr>\n",
       "  </tbody>\n",
       "</table>\n",
       "</div>"
      ],
      "text/plain": [
       "  Restaurant                             Location  \\\n",
       "0    ID_6321  FTI College, Law College Road, Pune   \n",
       "1    ID_2882                 Sector 3, Marathalli   \n",
       "2    ID_1595                       Mumbai Central   \n",
       "3    ID_5929                      Sector 1, Noida   \n",
       "4    ID_6123   Rmz Centennial, I Gate, Whitefield   \n",
       "\n",
       "                                 Cuisines Average_Cost Minimum_Order Rating  \\\n",
       "0  Fast Food, Rolls, Burger, Salad, Wraps         ₹200           ₹50    3.5   \n",
       "1                     Ice Cream, Desserts         ₹100           ₹50    3.5   \n",
       "2         Italian, Street Food, Fast Food         ₹150           ₹50    3.6   \n",
       "3          Mughlai, North Indian, Chinese         ₹250           ₹99    3.7   \n",
       "4                         Cafe, Beverages         ₹200           ₹99    3.2   \n",
       "\n",
       "  Votes Reviews Delivery_Time  \n",
       "0    12       4    30 minutes  \n",
       "1    11       4    30 minutes  \n",
       "2    99      30    65 minutes  \n",
       "3   176      95    30 minutes  \n",
       "4   521     235    65 minutes  "
      ]
     },
     "execution_count": 4,
     "metadata": {},
     "output_type": "execute_result"
    }
   ],
   "source": [
    "train.head()"
   ]
  },
  {
   "cell_type": "code",
   "execution_count": 5,
   "metadata": {},
   "outputs": [
    {
     "data": {
      "text/plain": [
       "Restaurant       0\n",
       "Location         0\n",
       "Cuisines         0\n",
       "Average_Cost     0\n",
       "Minimum_Order    0\n",
       "Rating           0\n",
       "Votes            0\n",
       "Reviews          0\n",
       "Delivery_Time    0\n",
       "dtype: int64"
      ]
     },
     "execution_count": 5,
     "metadata": {},
     "output_type": "execute_result"
    }
   ],
   "source": [
    "train.isnull().sum()"
   ]
  },
  {
   "cell_type": "markdown",
   "metadata": {},
   "source": [
    "## Observation\n",
    "\n",
    "1. Location and cuisines need cleaning\n",
    "2. remove the rupee symbol from avg cost and min cost\n",
    "3. check the rating and reviews . there is a relation between rating , votes and reviews \n",
    "4.  from target  remove minutes"
   ]
  },
  {
   "cell_type": "code",
   "execution_count": 6,
   "metadata": {},
   "outputs": [],
   "source": [
    "## combining traoin and test dataset\n",
    "combined=pd.concat([train,test],sort=False,ignore_index=True)"
   ]
  },
  {
   "cell_type": "markdown",
   "metadata": {},
   "source": [
    "## univariate analysis"
   ]
  },
  {
   "cell_type": "code",
   "execution_count": 7,
   "metadata": {},
   "outputs": [
    {
     "data": {
      "text/plain": [
       "<matplotlib.axes._subplots.AxesSubplot at 0x12a4e4f4240>"
      ]
     },
     "execution_count": 7,
     "metadata": {},
     "output_type": "execute_result"
    },
    {
     "data": {
      "image/png": "[encoded data removed]",
      "text/plain": [
       "<Figure size 432x288 with 1 Axes>"
      ]
     },
     "metadata": {
      "needs_background": "light"
     },
     "output_type": "display_data"
    }
   ],
   "source": [
    "# Delivery time\n",
    "combined.Delivery_Time.value_counts().plot(kind='bar')"
   ]
  },
  {
   "cell_type": "code",
   "execution_count": 8,
   "metadata": {},
   "outputs": [
    {
     "data": {
      "text/plain": [
       "Index(['Restaurant', 'Location', 'Cuisines', 'Average_Cost', 'Minimum_Order',\n",
       "       'Rating', 'Votes', 'Reviews', 'Delivery_Time'],\n",
       "      dtype='object')"
      ]
     },
     "execution_count": 8,
     "metadata": {},
     "output_type": "execute_result"
    }
   ],
   "source": [
    "combined.columns"
   ]
  },
  {
   "cell_type": "code",
   "execution_count": 9,
   "metadata": {},
   "outputs": [
    {
     "data": {
      "text/plain": [
       "array(['4', '30', '95', '235', '18', '31', '1235', '26', '294', '61',\n",
       "       '1239', '-', '128', '5', '53', '47', '46', '23', '160', '2', '1',\n",
       "       '38', '9', '19', '7', '132', '74', '13', '111', '499', '29', '34',\n",
       "       '851', '513', '22', '27', '32', '25', '37', '8', '35', '6', '173',\n",
       "       '36', '15', '174', '11', '59', '16', '89', '170', '10', '1660',\n",
       "       '71', '41', '20', '40', '3', '191', '105', '100', '106', '21',\n",
       "       '65', '69', '2547', '159', '110', '42', '181', '109', '179', '490',\n",
       "       '28', '343', '118', '690', '72', '296', '33', '164', '50', '129',\n",
       "       '1581', '234', '45', '2363', '24', '115', '12', '138', '175', '39',\n",
       "       '66', '1603', '1443', '390', '108', '1457', '112', '107', '259',\n",
       "       '269', '52', '196', '794', '589', '48', '145', '536', '247', '17',\n",
       "       '49', '245', '87', '83', '54', '453', '318', '99', '205', '165',\n",
       "       '1845', '766', '114', '44', '51', '104', '478', '70', '232', '435',\n",
       "       '14', '659', '554', '399', '77', '88', '503', '55', '57', '855',\n",
       "       '301', '305', '94', '336', '307', '1369', '76', '124', '1131',\n",
       "       '155', '90', '366', '256', '739', '64', '351', '141', '169', '121',\n",
       "       '240', '556', '220', '502', '80', '176', '691', '102', '621',\n",
       "       '310', '391', '142', '721', '56', '189', '139', '1062', '97',\n",
       "       '741', '565', '972', '98', '187', '314', '60', '136', '214', '167',\n",
       "       '123', '67', '572', '171', '183', '84', '252', '120', '119', '758',\n",
       "       '258', '199', '287', '62', '579', '455', '131', '845', '127',\n",
       "       '906', '1948', '465', '143', '1673', '1174', '484', '152', '248',\n",
       "       '236', '204', '85', '207', '609', '231', '1150', '671', '322',\n",
       "       '1095', '233', '43', '668', '257', '158', '372', '285', '215',\n",
       "       '950', '357', '193', '260', '899', '126', '335', '1415', '249',\n",
       "       '243', '254', '241', '268', '116', '547', '58', '63', '1276',\n",
       "       '941', '81', '188', '849', '79', '696', '317', '400', '148', '86',\n",
       "       '168', '101', '153', '1356', '78', '242', '728', '6504', '860',\n",
       "       '226', '230', '206', '1260', '320', '184', '986', '560', '172',\n",
       "       '68', '96', '751', '545', '202', '3989', '423', '137', '432',\n",
       "       '539', '675', '278', '574', '177', '113', '410', '360', '405',\n",
       "       '2359', '938', '117', '1133', '819', '1211', '224', '91', '426',\n",
       "       '358', '362', '892', '208', '581', '652', '1962', '981', '125',\n",
       "       '325', '210', '147', '925', '437', '593', '251', '292', '238',\n",
       "       '73', '225', '387', '681', '965', '133', '370', '450', '163',\n",
       "       '154', '382', '580', '201', '518', '262', '626', '2311', '1336',\n",
       "       '2576', '569', '244', '273', '530', '1631', '459', '304', '157',\n",
       "       '1306', '383', '272', '246', '103', '228', '178', '151', '186',\n",
       "       '472', '135', '1370', '563', '2224', '444', '1138', '650', '192',\n",
       "       '407', '540', '93', '303', '1112', '264', '485', '195', '584',\n",
       "       '341', '977', '2167', '1067', '566', '212', '222', '277', '291',\n",
       "       '306', '647', '424', '421', '461', '237', '600', '582', '2126',\n",
       "       '495', '82', '1617', '2340', '364', '130', '1031', '290', '2640',\n",
       "       '2171', '772', '1875', '1002', '771', '1914', '219', '830', '346',\n",
       "       '250', '282', '328', '527', '75', '1164', '1804', '512', '409',\n",
       "       '369', '255', '319', '525', '923', '276', '406', '211', '140',\n",
       "       '1061', '229', '2490', '997', '633', '144', '926', '464', '1289',\n",
       "       '1200', '352', '497', '265', '299', '1605', '662', '436', '1479',\n",
       "       '736', '809', '209', '805', '122', '353', '3371', '344', '2303',\n",
       "       '323', '185', '1708', '699', '412', '439', '1191', '1961', '548',\n",
       "       '1005', '707', '279', '150', '506', '1589', '388', '134', '538',\n",
       "       '340', '999', '156', '355', '457', '2217', '338', '2212', '887',\n",
       "       '777', '1444', '635', '971', '149', '297', '393', '1165', '397',\n",
       "       '1319', '146', '218', '194', '482', '431', '385', '394', '1818',\n",
       "       '983', '1967', '1501', '1538', '274', '2931', '227', '308', '266',\n",
       "       '342', '815', '544', '500', '434', '1079', '567', '634', '221',\n",
       "       '1091', '2808', '377', '992', '1199', '603', '467', '348', '2036',\n",
       "       '726', '438', '389', '734', '1510', '498', '1971', '197', '463',\n",
       "       '532', '1318', '885', '1046', '1412', '1509', '381', '347', '270',\n",
       "       '2084', '415', '1116', '1084', '1429', '324', '651', '334', '384',\n",
       "       '1093', '897', '1532', '1798', '533', '471', '1159', '253', '667',\n",
       "       '263', '1819', '2454', '1992', '161', '763', '2143', '5558', '553',\n",
       "       '2203', '876', '380', '223', '198', '508', '281', '2649', '571',\n",
       "       '1172', '767', '529', '774', '606', '417', '2724', '182', '872',\n",
       "       '332', '217', '1508', '587', '329', '1616', '293', '190', '2936',\n",
       "       '92', '1130', '991', '719', '312', '333', '2922', '858', '458',\n",
       "       '840', '1213', '1251', '695', '413', '511', '1263', '1877', '1135',\n",
       "       '1246', '280', '823', '848', '895', '474', '371', '937', '519',\n",
       "       '2940', '213', '743', '1317', '2155', '800', '368', '883', '516',\n",
       "       '714', '392', '200', '313', '162', '888', '375', '1464', '682',\n",
       "       '1641', '354', '705', '655', '446', '468', '896', '331', '3337',\n",
       "       '350', '1357', '947', '604', '414', '967', '379', '952', '1979',\n",
       "       '764', '801', '309', '1956', '664', '1252', '1028', '466', '543',\n",
       "       '448', '602', '1148', '514', '748', '2503', '361', '302', '959',\n",
       "       '781', '2567', '510', '1009', '359', '494', '1734', '339', '326',\n",
       "       '625', '1329', '288', '449', '2098', '2031', '561', '316', '321',\n",
       "       '289', '430', '520', '646', '677', '559', '818', '995', '271',\n",
       "       '630', '528', '605', '1224', '704', '577', '475', '456', '1225',\n",
       "       '1161', '419', '3019', '441', '166', '275', '575', '2146', '1073',\n",
       "       '402', '889', '180', '761', '3753', '788', '418', '1787', '875',\n",
       "       '261', '239', '550', '476', '1353', '628', '4966', '710', '737',\n",
       "       '492', '515', '558', '378', '1414', '1890', '477', '1681', '570',\n",
       "       '422', '2483', '549', '404', '627', '295', '752', '283', '1409',\n",
       "       '2174', '1392', '542', '1183', '298', '373', '451', '568', '2540',\n",
       "       '1439', '440', '648', '601', '1085', '541', '429', '922', '894',\n",
       "       '452', '718', '594', '865', '2910', '1313', '203', '311', '900',\n",
       "       '1723', '367', '620', '3718', '376', '637', '1520', '996', '3503',\n",
       "       '1905', '1636', '2421', '828', '1340', '395', '3863', '731'],\n",
       "      dtype=object)"
      ]
     },
     "execution_count": 9,
     "metadata": {},
     "output_type": "execute_result"
    }
   ],
   "source": [
    "combined.Reviews.unique()"
   ]
  },
  {
   "cell_type": "code",
   "execution_count": 10,
   "metadata": {},
   "outputs": [
    {
     "data": {
      "text/plain": [
       "array(['12', '11', '99', ..., '518', '666', '605'], dtype=object)"
      ]
     },
     "execution_count": 10,
     "metadata": {},
     "output_type": "execute_result"
    }
   ],
   "source": [
    "combined.Votes.unique()\n",
    "\n",
    "# missing dash in votes"
   ]
  },
  {
   "cell_type": "code",
   "execution_count": 11,
   "metadata": {},
   "outputs": [
    {
     "data": {
      "text/plain": [
       "array(['3.5', '3.6', '3.7', '3.2', '3.8', '4.0', '3.9', '4.2', '-', '2.8',\n",
       "       '3.0', '3.3', '3.1', '4.7', '3.4', '4.1', 'NEW', '2.9', '4.6',\n",
       "       '4.3', '2.6', '4.5', '4.4', '4.8', '2.4', '2.7', '2.5',\n",
       "       'Opening Soon', '2.2', '4.9', '2.3', '2.1', 'Temporarily Closed'],\n",
       "      dtype=object)"
      ]
     },
     "execution_count": 11,
     "metadata": {},
     "output_type": "execute_result"
    }
   ],
   "source": [
    "combined.Rating.unique()\n"
   ]
  },
  {
   "cell_type": "code",
   "execution_count": 12,
   "metadata": {},
   "outputs": [
    {
     "data": {
      "text/plain": [
       "array(['₹200', '₹100', '₹150', '₹250', '₹650', '₹350', '₹800', '₹50',\n",
       "       '₹400', '₹600', '₹300', '₹750', '₹450', '₹550', '₹1,000', '₹500',\n",
       "       '₹900', '₹1,200', '₹950', '₹850', '₹700', '₹1,150', 'for',\n",
       "       '₹1,100', '₹1,400', '₹2,050'], dtype=object)"
      ]
     },
     "execution_count": 12,
     "metadata": {},
     "output_type": "execute_result"
    }
   ],
   "source": [
    "combined.Average_Cost.unique()"
   ]
  },
  {
   "cell_type": "code",
   "execution_count": 13,
   "metadata": {},
   "outputs": [
    {
     "data": {
      "text/plain": [
       "array(['₹50', '₹99', '₹0', '₹200', '₹450', '₹350', '₹79', '₹400', '₹199',\n",
       "       '₹500', '₹250', '₹150', '₹90', '₹299', '₹300', '₹240', '₹89',\n",
       "       '₹59', '₹149', '₹399'], dtype=object)"
      ]
     },
     "execution_count": 13,
     "metadata": {},
     "output_type": "execute_result"
    }
   ],
   "source": [
    "combined.Minimum_Order.unique()"
   ]
  },
  {
   "cell_type": "code",
   "execution_count": 14,
   "metadata": {},
   "outputs": [
    {
     "data": {
      "text/plain": [
       "50"
      ]
     },
     "execution_count": 14,
     "metadata": {},
     "output_type": "execute_result"
    }
   ],
   "source": [
    "int(combined.Minimum_Order[0].split(\"₹\")[1])"
   ]
  },
  {
   "cell_type": "code",
   "execution_count": 15,
   "metadata": {},
   "outputs": [],
   "source": [
    "mylist=[]\n",
    "for i in combined.Minimum_Order:\n",
    "    mylist.append(int(i.split(\"₹\")[1]))"
   ]
  },
  {
   "cell_type": "code",
   "execution_count": 16,
   "metadata": {},
   "outputs": [],
   "source": [
    "combined[\"Minorder_Cleansed\"]=pd.Series(mylist)"
   ]
  },
  {
   "cell_type": "code",
   "execution_count": 17,
   "metadata": {},
   "outputs": [
    {
     "data": {
      "text/html": [
       "<div>\n",
       "<style scoped>\n",
       "    .dataframe tbody tr th:only-of-type {\n",
       "        vertical-align: middle;\n",
       "    }\n",
       "\n",
       "    .dataframe tbody tr th {\n",
       "        vertical-align: top;\n",
       "    }\n",
       "\n",
       "    .dataframe thead th {\n",
       "        text-align: right;\n",
       "    }\n",
       "</style>\n",
       "<table border=\"1\" class=\"dataframe\">\n",
       "  <thead>\n",
       "    <tr style=\"text-align: right;\">\n",
       "      <th></th>\n",
       "      <th>Restaurant</th>\n",
       "      <th>Location</th>\n",
       "      <th>Cuisines</th>\n",
       "      <th>Average_Cost</th>\n",
       "      <th>Minimum_Order</th>\n",
       "      <th>Rating</th>\n",
       "      <th>Votes</th>\n",
       "      <th>Reviews</th>\n",
       "      <th>Delivery_Time</th>\n",
       "      <th>Minorder_Cleansed</th>\n",
       "    </tr>\n",
       "  </thead>\n",
       "  <tbody>\n",
       "    <tr>\n",
       "      <th>0</th>\n",
       "      <td>ID_6321</td>\n",
       "      <td>FTI College, Law College Road, Pune</td>\n",
       "      <td>Fast Food, Rolls, Burger, Salad, Wraps</td>\n",
       "      <td>₹200</td>\n",
       "      <td>₹50</td>\n",
       "      <td>3.5</td>\n",
       "      <td>12</td>\n",
       "      <td>4</td>\n",
       "      <td>30 minutes</td>\n",
       "      <td>50</td>\n",
       "    </tr>\n",
       "    <tr>\n",
       "      <th>1</th>\n",
       "      <td>ID_2882</td>\n",
       "      <td>Sector 3, Marathalli</td>\n",
       "      <td>Ice Cream, Desserts</td>\n",
       "      <td>₹100</td>\n",
       "      <td>₹50</td>\n",
       "      <td>3.5</td>\n",
       "      <td>11</td>\n",
       "      <td>4</td>\n",
       "      <td>30 minutes</td>\n",
       "      <td>50</td>\n",
       "    </tr>\n",
       "    <tr>\n",
       "      <th>2</th>\n",
       "      <td>ID_1595</td>\n",
       "      <td>Mumbai Central</td>\n",
       "      <td>Italian, Street Food, Fast Food</td>\n",
       "      <td>₹150</td>\n",
       "      <td>₹50</td>\n",
       "      <td>3.6</td>\n",
       "      <td>99</td>\n",
       "      <td>30</td>\n",
       "      <td>65 minutes</td>\n",
       "      <td>50</td>\n",
       "    </tr>\n",
       "    <tr>\n",
       "      <th>3</th>\n",
       "      <td>ID_5929</td>\n",
       "      <td>Sector 1, Noida</td>\n",
       "      <td>Mughlai, North Indian, Chinese</td>\n",
       "      <td>₹250</td>\n",
       "      <td>₹99</td>\n",
       "      <td>3.7</td>\n",
       "      <td>176</td>\n",
       "      <td>95</td>\n",
       "      <td>30 minutes</td>\n",
       "      <td>99</td>\n",
       "    </tr>\n",
       "    <tr>\n",
       "      <th>4</th>\n",
       "      <td>ID_6123</td>\n",
       "      <td>Rmz Centennial, I Gate, Whitefield</td>\n",
       "      <td>Cafe, Beverages</td>\n",
       "      <td>₹200</td>\n",
       "      <td>₹99</td>\n",
       "      <td>3.2</td>\n",
       "      <td>521</td>\n",
       "      <td>235</td>\n",
       "      <td>65 minutes</td>\n",
       "      <td>99</td>\n",
       "    </tr>\n",
       "  </tbody>\n",
       "</table>\n",
       "</div>"
      ],
      "text/plain": [
       "  Restaurant                             Location  \\\n",
       "0    ID_6321  FTI College, Law College Road, Pune   \n",
       "1    ID_2882                 Sector 3, Marathalli   \n",
       "2    ID_1595                       Mumbai Central   \n",
       "3    ID_5929                      Sector 1, Noida   \n",
       "4    ID_6123   Rmz Centennial, I Gate, Whitefield   \n",
       "\n",
       "                                 Cuisines Average_Cost Minimum_Order Rating  \\\n",
       "0  Fast Food, Rolls, Burger, Salad, Wraps         ₹200           ₹50    3.5   \n",
       "1                     Ice Cream, Desserts         ₹100           ₹50    3.5   \n",
       "2         Italian, Street Food, Fast Food         ₹150           ₹50    3.6   \n",
       "3          Mughlai, North Indian, Chinese         ₹250           ₹99    3.7   \n",
       "4                         Cafe, Beverages         ₹200           ₹99    3.2   \n",
       "\n",
       "  Votes Reviews Delivery_Time  Minorder_Cleansed  \n",
       "0    12       4    30 minutes                 50  \n",
       "1    11       4    30 minutes                 50  \n",
       "2    99      30    65 minutes                 50  \n",
       "3   176      95    30 minutes                 99  \n",
       "4   521     235    65 minutes                 99  "
      ]
     },
     "execution_count": 17,
     "metadata": {},
     "output_type": "execute_result"
    }
   ],
   "source": [
    "combined.head()"
   ]
  },
  {
   "cell_type": "code",
   "execution_count": null,
   "metadata": {},
   "outputs": [],
   "source": [
    "combined.loc[combined.Average_Cost==\"for\",\"Average_Cost\"]='0'"
   ]
  },
  {
   "cell_type": "code",
   "execution_count": 20,
   "metadata": {},
   "outputs": [],
   "source": [
    "cost=[]\n",
    "for i in combined.Average_Cost:\n",
    "    cost.append(int(i.replace(\"₹\",\"\").replace(\",\",\"\")))"
   ]
  },
  {
   "cell_type": "code",
   "execution_count": 21,
   "metadata": {},
   "outputs": [],
   "source": [
    "combined[\"AvgCost_Cleansed\"]=pd.Series(cost)"
   ]
  },
  {
   "cell_type": "code",
   "execution_count": 22,
   "metadata": {},
   "outputs": [
    {
     "data": {
      "text/plain": [
       "' Pune'"
      ]
     },
     "execution_count": 22,
     "metadata": {},
     "output_type": "execute_result"
    }
   ],
   "source": [
    "## location\n",
    "\n",
    "combined.Location[0].split(\",\")[-1]"
   ]
  },
  {
   "cell_type": "code",
   "execution_count": 23,
   "metadata": {},
   "outputs": [],
   "source": [
    "locs=[]\n",
    "for i in combined.Location:\n",
    "    locs.append(i.split(\", \")[-1])"
   ]
  },
  {
   "cell_type": "code",
   "execution_count": 24,
   "metadata": {},
   "outputs": [],
   "source": [
    "combined[\"Location_Cleansed\"]=pd.Series(locs)\n",
    "\n"
   ]
  },
  {
   "cell_type": "code",
   "execution_count": 25,
   "metadata": {},
   "outputs": [
    {
     "data": {
      "text/plain": [
       "array(['Pune', 'Marathalli', 'Mumbai Central', 'Noida', 'Whitefield',\n",
       "       'Delhi University-GTB Nagar', 'Maharashtra', 'Timarpur', 'Kolkata',\n",
       "       'Mumbai CST Area', 'Pune University', 'BTM Layout,Bangalore',\n",
       "       'Gurgoan', 'Begumpet', 'Majestic', 'India Gate', 'Hyderabad',\n",
       "       'Sector 63A,Gurgaon', 'Delhi Cantt.', 'Mumbai', 'Delhi',\n",
       "       'Electronic City'], dtype=object)"
      ]
     },
     "execution_count": 25,
     "metadata": {},
     "output_type": "execute_result"
    }
   ],
   "source": [
    "combined.Location_Cleansed.unique()"
   ]
  },
  {
   "cell_type": "code",
   "execution_count": 26,
   "metadata": {},
   "outputs": [],
   "source": [
    "combined.Location_Cleansed.replace(to_replace=['Marathalli', 'Whitefield','Majestic','BTM Layout,Bangalore','Electronic City'],value=[\"Banglore\"]*5,inplace=True)"
   ]
  },
  {
   "cell_type": "code",
   "execution_count": 27,
   "metadata": {},
   "outputs": [],
   "source": [
    "combined.Location_Cleansed.replace(to_replace=['Mumbai Central','Mumbai CST Area'],value=[\"Mumbai\"]*2,inplace=True)"
   ]
  },
  {
   "cell_type": "code",
   "execution_count": 28,
   "metadata": {},
   "outputs": [],
   "source": [
    "combined.Location_Cleansed.replace(to_replace=['Pune University','Maharashtra'],value=[\"Pune\"]*2,inplace=True)"
   ]
  },
  {
   "cell_type": "code",
   "execution_count": 29,
   "metadata": {},
   "outputs": [],
   "source": [
    "combined.Location_Cleansed.replace(to_replace=['Delhi Cantt.','India Gate','Timarpur','Delhi University-GTB Nagar'],value=[\"Delhi\"]*4,inplace=True)"
   ]
  },
  {
   "cell_type": "code",
   "execution_count": 30,
   "metadata": {},
   "outputs": [],
   "source": [
    "combined.Location_Cleansed.replace(to_replace=['Sector 63A,Gurgaon'],value=[\"Gurgoan\"]*1,inplace=True)"
   ]
  },
  {
   "cell_type": "code",
   "execution_count": 31,
   "metadata": {},
   "outputs": [],
   "source": [
    "combined.Location_Cleansed.replace(to_replace=['Begumpet'],value=[\"Hyderabad\"]*1,inplace=True)"
   ]
  },
  {
   "cell_type": "code",
   "execution_count": 32,
   "metadata": {},
   "outputs": [
    {
     "data": {
      "text/plain": [
       "<matplotlib.axes._subplots.AxesSubplot at 0x12a4f646978>"
      ]
     },
     "execution_count": 32,
     "metadata": {},
     "output_type": "execute_result"
    },
    {
     "data": {
      "image/png": "[encoded data removed]",
      "text/plain": [
       "<Figure size 432x288 with 1 Axes>"
      ]
     },
     "metadata": {
      "needs_background": "light"
     },
     "output_type": "display_data"
    }
   ],
   "source": [
    "combined.Location_Cleansed.value_counts().plot(kind='bar')"
   ]
  },
  {
   "cell_type": "code",
   "execution_count": 33,
   "metadata": {},
   "outputs": [
    {
     "data": {
      "text/plain": [
       "North Indian                                                         1076\n",
       "North Indian, Chinese                                                 786\n",
       "Fast Food                                                             553\n",
       "South Indian                                                          336\n",
       "Chinese                                                               303\n",
       "Bakery                                                                219\n",
       "Street Food                                                           211\n",
       "Bakery, Desserts                                                      200\n",
       "North Indian, Mughlai                                                 192\n",
       "Pizza, Fast Food                                                      171\n",
       "Chinese, North Indian                                                 152\n",
       "Fast Food, Beverages                                                  138\n",
       "North Indian, Fast Food                                               133\n",
       "Biryani                                                               132\n",
       "Desserts                                                              127\n",
       "North Indian, Chinese, Fast Food                                      126\n",
       "Desserts, Beverages                                                   114\n",
       "Biryani, North Indian                                                 110\n",
       "North Indian, Mughlai, Chinese                                         99\n",
       "North Indian, Chinese, Mughlai                                         97\n",
       "Mithai, Street Food                                                    94\n",
       "South Indian, North Indian, Chinese                                    91\n",
       "Chinese, Fast Food                                                     91\n",
       "Bakery, Fast Food                                                      84\n",
       "Burger, Fast Food                                                      83\n",
       "North Indian, South Indian, Chinese                                    82\n",
       "Beverages                                                              79\n",
       "Rolls                                                                  75\n",
       "Beverages, Fast Food                                                   72\n",
       "North Indian, Chinese, Biryani                                         72\n",
       "                                                                     ... \n",
       "American, North Indian, Finger Food                                     1\n",
       "Cafe, Pizza, Desserts, Beverages                                        1\n",
       "Pizza, Burger, Fast Food                                                1\n",
       "Burger, Desserts                                                        1\n",
       "Bakery, Desserts, Ice Cream, Fast Food                                  1\n",
       "North Indian, Biryani, Desserts, Beverages, Wraps                       1\n",
       "Chinese, Thai, Malaysian, Indonesian, Momos                             1\n",
       "Fast Food, Chinese, North Indian, Momos                                 1\n",
       "Arabian, North Indian, Rolls                                            1\n",
       "Bar Food, Continental, Italian, Asian                                   1\n",
       "Italian, Mexican, French                                                1\n",
       "North Indian, Mughlai, Chinese, Rolls                                   1\n",
       "Cafe, Continental, Desserts                                             1\n",
       "North Indian, Kebab, Biryani                                            1\n",
       "South Indian, Hyderabadi                                                1\n",
       "Cafe, Salad, Italian, American, Bakery, Beverages                       1\n",
       "Modern Indian, North Indian, Chinese                                    1\n",
       "Continental, Italian, North Indian, Asian, Finger Food, Fast Food       1\n",
       "Fast Food, North Indian, Rolls, Chinese                                 1\n",
       "Finger Food, American, Italian                                          1\n",
       "Chinese, Thai, Burmese                                                  1\n",
       "Mughlai, North Indian, South Indian                                     1\n",
       "Finger Food, Italian, North Indian, Modern Indian, Salad                1\n",
       "Cafe, Pizza, Fast Food, Beverages                                       1\n",
       "Italian, American, Fast Food, Wraps, Rolls, Salad                       1\n",
       "Italian, Tex-Mex, Bakery                                                1\n",
       "Pizza, Fast Food, Italian, Sandwich, Beverages                          1\n",
       "American, Asian, European                                               1\n",
       "Continental, Italian, American, North Indian                            1\n",
       "Andhra, Biryani, Chinese, South Indian                                  1\n",
       "Name: Cuisines, Length: 2392, dtype: int64"
      ]
     },
     "execution_count": 33,
     "metadata": {},
     "output_type": "execute_result"
    }
   ],
   "source": [
    "combined.Cuisines.value_counts()"
   ]
  },
  {
   "cell_type": "code",
   "execution_count": 34,
   "metadata": {},
   "outputs": [
    {
     "data": {
      "text/plain": [
       "['Fast Food', ' Rolls', ' Burger', ' Salad', ' Wraps']"
      ]
     },
     "execution_count": 34,
     "metadata": {},
     "output_type": "execute_result"
    }
   ],
   "source": [
    "combined.Cuisines[0].split(\",\")"
   ]
  },
  {
   "cell_type": "code",
   "execution_count": 35,
   "metadata": {},
   "outputs": [],
   "source": [
    "food=[]\n",
    "for i in combined.Cuisines:\n",
    "    food.append(i.split(\",\"))\n",
    "    "
   ]
  },
  {
   "cell_type": "code",
   "execution_count": 36,
   "metadata": {},
   "outputs": [],
   "source": [
    "df=pd.DataFrame(food)"
   ]
  },
  {
   "cell_type": "code",
   "execution_count": 37,
   "metadata": {},
   "outputs": [
    {
     "data": {
      "text/html": [
       "<div>\n",
       "<style scoped>\n",
       "    .dataframe tbody tr th:only-of-type {\n",
       "        vertical-align: middle;\n",
       "    }\n",
       "\n",
       "    .dataframe tbody tr th {\n",
       "        vertical-align: top;\n",
       "    }\n",
       "\n",
       "    .dataframe thead th {\n",
       "        text-align: right;\n",
       "    }\n",
       "</style>\n",
       "<table border=\"1\" class=\"dataframe\">\n",
       "  <thead>\n",
       "    <tr style=\"text-align: right;\">\n",
       "      <th></th>\n",
       "      <th>0</th>\n",
       "      <th>1</th>\n",
       "      <th>2</th>\n",
       "      <th>3</th>\n",
       "      <th>4</th>\n",
       "      <th>5</th>\n",
       "      <th>6</th>\n",
       "      <th>7</th>\n",
       "    </tr>\n",
       "  </thead>\n",
       "  <tbody>\n",
       "    <tr>\n",
       "      <th>0</th>\n",
       "      <td>Fast Food</td>\n",
       "      <td>Rolls</td>\n",
       "      <td>Burger</td>\n",
       "      <td>Salad</td>\n",
       "      <td>Wraps</td>\n",
       "      <td>None</td>\n",
       "      <td>None</td>\n",
       "      <td>None</td>\n",
       "    </tr>\n",
       "    <tr>\n",
       "      <th>1</th>\n",
       "      <td>Ice Cream</td>\n",
       "      <td>Desserts</td>\n",
       "      <td>None</td>\n",
       "      <td>None</td>\n",
       "      <td>None</td>\n",
       "      <td>None</td>\n",
       "      <td>None</td>\n",
       "      <td>None</td>\n",
       "    </tr>\n",
       "    <tr>\n",
       "      <th>2</th>\n",
       "      <td>Italian</td>\n",
       "      <td>Street Food</td>\n",
       "      <td>Fast Food</td>\n",
       "      <td>None</td>\n",
       "      <td>None</td>\n",
       "      <td>None</td>\n",
       "      <td>None</td>\n",
       "      <td>None</td>\n",
       "    </tr>\n",
       "    <tr>\n",
       "      <th>3</th>\n",
       "      <td>Mughlai</td>\n",
       "      <td>North Indian</td>\n",
       "      <td>Chinese</td>\n",
       "      <td>None</td>\n",
       "      <td>None</td>\n",
       "      <td>None</td>\n",
       "      <td>None</td>\n",
       "      <td>None</td>\n",
       "    </tr>\n",
       "    <tr>\n",
       "      <th>4</th>\n",
       "      <td>Cafe</td>\n",
       "      <td>Beverages</td>\n",
       "      <td>None</td>\n",
       "      <td>None</td>\n",
       "      <td>None</td>\n",
       "      <td>None</td>\n",
       "      <td>None</td>\n",
       "      <td>None</td>\n",
       "    </tr>\n",
       "  </tbody>\n",
       "</table>\n",
       "</div>"
      ],
      "text/plain": [
       "           0              1           2       3       4     5     6     7\n",
       "0  Fast Food          Rolls      Burger   Salad   Wraps  None  None  None\n",
       "1  Ice Cream       Desserts        None    None    None  None  None  None\n",
       "2    Italian    Street Food   Fast Food    None    None  None  None  None\n",
       "3    Mughlai   North Indian     Chinese    None    None  None  None  None\n",
       "4       Cafe      Beverages        None    None    None  None  None  None"
      ]
     },
     "execution_count": 37,
     "metadata": {},
     "output_type": "execute_result"
    }
   ],
   "source": [
    "df.head()"
   ]
  },
  {
   "cell_type": "code",
   "execution_count": 38,
   "metadata": {},
   "outputs": [
    {
     "data": {
      "text/plain": [
       "array(['Fast Food', 'Ice Cream', 'Italian', 'Mughlai', 'Cafe',\n",
       "       'South Indian', 'Beverages', 'Chinese', 'Mithai', 'North Indian',\n",
       "       'Burger', 'Biryani', 'Kerala', 'Desserts', 'Bakery', 'Asian',\n",
       "       'Street Food', 'Pizza', 'Lucknowi', 'Tea', 'Rolls', 'Bengali',\n",
       "       'Mishti', 'European', 'Momos', 'Continental', 'Andhra', 'German',\n",
       "       'Finger Food', 'Sandwich', 'Chettinad', 'Juices', 'Parsi',\n",
       "       'Japanese', 'Salad', 'Tamil', 'North Eastern', 'Maharashtrian',\n",
       "       'Tibetan', 'Arabian', 'Bar Food', 'Konkan', 'Odia', 'Paan',\n",
       "       'Wraps', 'Lebanese', 'American', 'Mediterranean', 'Bohri',\n",
       "       'Mangalorean', 'Thai', 'Healthy Food', 'Raw Meats', 'Gujarati',\n",
       "       'Seafood', 'Rajasthani', 'BBQ', 'Coffee', 'Mexican', 'Goan',\n",
       "       'Korean', 'Kebab', 'Kashmiri', 'Bihari', 'Portuguese',\n",
       "       'Frozen Yogurt', 'Afghan', 'Awadhi', 'Malwani', 'Malaysian',\n",
       "       'Hyderabadi', 'French', 'Modern Indian', 'Sushi', 'Hot dogs',\n",
       "       'Iranian', 'Brazilian', 'Indian', 'African', 'Bubble Tea',\n",
       "       'Turkish', 'Assamese', 'Naga', 'Middle Eastern', 'Vietnamese',\n",
       "       'Steak'], dtype=object)"
      ]
     },
     "execution_count": 38,
     "metadata": {},
     "output_type": "execute_result"
    }
   ],
   "source": [
    "df[0].unique()"
   ]
  },
  {
   "cell_type": "code",
   "execution_count": 39,
   "metadata": {},
   "outputs": [],
   "source": [
    "fastfood=['Fast Food','Cafe','Chinese','Burger','Street Food', 'Pizza','Tea', 'Rolls','Momos','Finger Food', 'Sandwich'\n",
    "          ,'Bar Food'\n",
    "          ,'Wraps','Hot dogs']\n",
    "desserts=['Ice Cream','Mithai','Desserts', 'Bakery','Mishti','Paan','Frozen Yogurt']\n",
    "main=['Italian', 'Mughlai','South Indian','North Indian','Biryani', 'Kerala','Asian','Lucknowi','Bengali','European'\n",
    "      ,'Continental'\n",
    "      , 'Andhra', 'German','Chettinad','Parsi',\n",
    "     'Japanese', 'Salad', 'Tamil', 'North Eastern', 'Maharashtrian','Tibetan', 'Arabian','Konkan', 'Odia','Lebanese'\n",
    "      , 'American'\n",
    "      , 'Mediterranean', 'Bohri',\n",
    "     'Mangalorean', 'Thai', 'Healthy Food''Raw Meats', 'Gujarati','Seafood', 'Rajasthani', 'BBQ','Mexican', 'Goan','Afghan',\n",
    "      'Awadhi', 'Malwani',\n",
    "      'Malaysian','Hyderabadi', 'French', 'Modern Indian', 'Sushi','Iranian', 'Brazilian', 'Indian', 'African','Turkish',\n",
    "      'Assamese', 'Naga', 'Middle Eastern', 'Vietnamese',\n",
    "     'Steak','Charcoal Chicken','Nepalese','Cantonese','Belgian','Tex-Mex','Malwani','Burmese','Spanish','Roast Chicken'\n",
    "      ,'Indonesian', 'Bangladeshi', 'South American', 'Poké', 'Greek',\n",
    "      'Israeli', 'Sri Lankan']\n",
    "beverage=['Beverages','Juices','Tea','Coffee','Bubble Tea']"
   ]
  },
  {
   "cell_type": "code",
   "execution_count": 40,
   "metadata": {},
   "outputs": [],
   "source": [
    "## function to convert the food into category\n",
    "def foodcatbanao(x):\n",
    "    if(x in fastfood):\n",
    "        return(\"Fast Food\")\n",
    "    elif(x in beverage):\n",
    "        return(\"Beverages\")\n",
    "    elif(x in desserts):\n",
    "        return(\"Deserts\")\n",
    "    else:\n",
    "        return(\"Main Course\")"
   ]
  },
  {
   "cell_type": "code",
   "execution_count": 41,
   "metadata": {},
   "outputs": [],
   "source": [
    "combined[\"Cuisines_Cleansed\"]=pd.Series(df[0].apply(foodcatbanao))"
   ]
  },
  {
   "cell_type": "code",
   "execution_count": 42,
   "metadata": {},
   "outputs": [
    {
     "data": {
      "text/plain": [
       "count    1016.000000\n",
       "mean      198.375984\n",
       "std       127.440976\n",
       "min         0.000000\n",
       "25%       100.000000\n",
       "50%       150.000000\n",
       "75%       200.000000\n",
       "max      1000.000000\n",
       "Name: AvgCost_Cleansed, dtype: float64"
      ]
     },
     "execution_count": 42,
     "metadata": {},
     "output_type": "execute_result"
    }
   ],
   "source": [
    "combined[(combined.Location_Cleansed=='Pune')&(combined.Cuisines_Cleansed==\"Fast Food\")][\"AvgCost_Cleansed\"].describe()"
   ]
  },
  {
   "cell_type": "code",
   "execution_count": 43,
   "metadata": {},
   "outputs": [],
   "source": [
    "## Imputing the missing value\n",
    "combined.loc[combined.AvgCost_Cleansed==0,'AvgCost_Cleansed']=150"
   ]
  },
  {
   "cell_type": "code",
   "execution_count": 44,
   "metadata": {},
   "outputs": [
    {
     "data": {
      "text/html": [
       "<div>\n",
       "<style scoped>\n",
       "    .dataframe tbody tr th:only-of-type {\n",
       "        vertical-align: middle;\n",
       "    }\n",
       "\n",
       "    .dataframe tbody tr th {\n",
       "        vertical-align: top;\n",
       "    }\n",
       "\n",
       "    .dataframe thead th {\n",
       "        text-align: right;\n",
       "    }\n",
       "</style>\n",
       "<table border=\"1\" class=\"dataframe\">\n",
       "  <thead>\n",
       "    <tr style=\"text-align: right;\">\n",
       "      <th></th>\n",
       "      <th>Restaurant</th>\n",
       "      <th>Location</th>\n",
       "      <th>Cuisines</th>\n",
       "      <th>Average_Cost</th>\n",
       "      <th>Minimum_Order</th>\n",
       "      <th>Rating</th>\n",
       "      <th>Votes</th>\n",
       "      <th>Reviews</th>\n",
       "      <th>Delivery_Time</th>\n",
       "      <th>Minorder_Cleansed</th>\n",
       "      <th>AvgCost_Cleansed</th>\n",
       "      <th>Location_Cleansed</th>\n",
       "      <th>Cuisines_Cleansed</th>\n",
       "    </tr>\n",
       "  </thead>\n",
       "  <tbody>\n",
       "    <tr>\n",
       "      <th>5988</th>\n",
       "      <td>ID_6472</td>\n",
       "      <td>D-Block, Sector 63, Noida</td>\n",
       "      <td>Fast Food</td>\n",
       "      <td>₹200</td>\n",
       "      <td>₹99</td>\n",
       "      <td>3.7</td>\n",
       "      <td>1056</td>\n",
       "      <td>329</td>\n",
       "      <td>65 minutes</td>\n",
       "      <td>99</td>\n",
       "      <td>200</td>\n",
       "      <td>Noida</td>\n",
       "      <td>Fast Food</td>\n",
       "    </tr>\n",
       "    <tr>\n",
       "      <th>6297</th>\n",
       "      <td>ID_6472</td>\n",
       "      <td>Pune University</td>\n",
       "      <td>Fast Food</td>\n",
       "      <td>0</td>\n",
       "      <td>₹50</td>\n",
       "      <td>NEW</td>\n",
       "      <td>-</td>\n",
       "      <td>-</td>\n",
       "      <td>30 minutes</td>\n",
       "      <td>50</td>\n",
       "      <td>150</td>\n",
       "      <td>Pune</td>\n",
       "      <td>Fast Food</td>\n",
       "    </tr>\n",
       "  </tbody>\n",
       "</table>\n",
       "</div>"
      ],
      "text/plain": [
       "     Restaurant                   Location   Cuisines Average_Cost  \\\n",
       "5988    ID_6472  D-Block, Sector 63, Noida  Fast Food         ₹200   \n",
       "6297    ID_6472            Pune University  Fast Food            0   \n",
       "\n",
       "     Minimum_Order Rating Votes Reviews Delivery_Time  Minorder_Cleansed  \\\n",
       "5988           ₹99    3.7  1056     329    65 minutes                 99   \n",
       "6297           ₹50    NEW     -       -    30 minutes                 50   \n",
       "\n",
       "      AvgCost_Cleansed Location_Cleansed Cuisines_Cleansed  \n",
       "5988               200             Noida         Fast Food  \n",
       "6297               150              Pune         Fast Food  "
      ]
     },
     "execution_count": 44,
     "metadata": {},
     "output_type": "execute_result"
    }
   ],
   "source": [
    "combined.loc[combined.Restaurant==\"ID_6472\"]"
   ]
  },
  {
   "cell_type": "code",
   "execution_count": 45,
   "metadata": {},
   "outputs": [
    {
     "data": {
      "text/plain": [
       "array(['3.5', '3.6', '3.7', '3.2', '3.8', '4.0', '3.9', '4.2', '-', '2.8',\n",
       "       '3.0', '3.3', '3.1', '4.7', '3.4', '4.1', 'NEW', '2.9', '4.6',\n",
       "       '4.3', '2.6', '4.5', '4.4', '4.8', '2.4', '2.7', '2.5',\n",
       "       'Opening Soon', '2.2', '4.9', '2.3', '2.1', 'Temporarily Closed'],\n",
       "      dtype=object)"
      ]
     },
     "execution_count": 45,
     "metadata": {},
     "output_type": "execute_result"
    }
   ],
   "source": [
    "## Rating\n",
    "combined.Rating.unique()"
   ]
  },
  {
   "cell_type": "code",
   "execution_count": 46,
   "metadata": {},
   "outputs": [
    {
     "data": {
      "text/plain": [
       "count     13868\n",
       "unique       33\n",
       "top           -\n",
       "freq       1496\n",
       "Name: Rating, dtype: object"
      ]
     },
     "execution_count": 46,
     "metadata": {},
     "output_type": "execute_result"
    }
   ],
   "source": [
    "combined.Rating.describe()"
   ]
  },
  {
   "cell_type": "code",
   "execution_count": 47,
   "metadata": {},
   "outputs": [],
   "source": [
    "combined.Rating=pd.to_numeric(combined.Rating,errors='coerce')"
   ]
  },
  {
   "cell_type": "code",
   "execution_count": 48,
   "metadata": {},
   "outputs": [],
   "source": [
    "combined.Rating.fillna(value=3.6,inplace=True)"
   ]
  },
  {
   "cell_type": "code",
   "execution_count": 49,
   "metadata": {},
   "outputs": [],
   "source": [
    "combined.Reviews=pd.to_numeric(combined.Reviews,errors='coerce')"
   ]
  },
  {
   "cell_type": "code",
   "execution_count": 50,
   "metadata": {},
   "outputs": [],
   "source": [
    "combined.Reviews.fillna(value=26,inplace=True)"
   ]
  },
  {
   "cell_type": "code",
   "execution_count": 51,
   "metadata": {},
   "outputs": [],
   "source": [
    "combined.Votes=pd.to_numeric(combined.Votes,errors='coerce')"
   ]
  },
  {
   "cell_type": "code",
   "execution_count": 52,
   "metadata": {},
   "outputs": [],
   "source": [
    "combined.Votes.fillna(value=63,inplace=True)"
   ]
  },
  {
   "cell_type": "code",
   "execution_count": 53,
   "metadata": {},
   "outputs": [
    {
     "data": {
      "text/plain": [
       "count    13868.000000\n",
       "mean       207.463441\n",
       "std        499.902608\n",
       "min          3.000000\n",
       "25%         25.000000\n",
       "50%         63.000000\n",
       "75%        156.000000\n",
       "max       9054.000000\n",
       "Name: Votes, dtype: float64"
      ]
     },
     "execution_count": 53,
     "metadata": {},
     "output_type": "execute_result"
    }
   ],
   "source": [
    "combined.Votes.describe()"
   ]
  },
  {
   "cell_type": "code",
   "execution_count": 54,
   "metadata": {},
   "outputs": [],
   "source": [
    "def rating_cat(x):\n",
    "   if(x>=4.5):\n",
    "       return(\"Excellent\")\n",
    "   elif(x>=4.0):\n",
    "       return(\"Very Good\")\n",
    "   elif(x>=3.5):\n",
    "       return(\"Good\")\n",
    "   elif(x>=3.0):\n",
    "       return(\"Average\")\n",
    "   else:\n",
    "       return(\"Poor\")"
   ]
  },
  {
   "cell_type": "code",
   "execution_count": 55,
   "metadata": {},
   "outputs": [],
   "source": [
    "combined[\"Rating_Category\"]=pd.Series(combined.Rating.apply(rating_cat))"
   ]
  },
  {
   "cell_type": "code",
   "execution_count": 229,
   "metadata": {},
   "outputs": [
    {
     "data": {
      "text/html": [
       "<div>\n",
       "<style scoped>\n",
       "    .dataframe tbody tr th:only-of-type {\n",
       "        vertical-align: middle;\n",
       "    }\n",
       "\n",
       "    .dataframe tbody tr th {\n",
       "        vertical-align: top;\n",
       "    }\n",
       "\n",
       "    .dataframe thead th {\n",
       "        text-align: right;\n",
       "    }\n",
       "</style>\n",
       "<table border=\"1\" class=\"dataframe\">\n",
       "  <thead>\n",
       "    <tr style=\"text-align: right;\">\n",
       "      <th></th>\n",
       "      <th>Restaurant</th>\n",
       "      <th>Location</th>\n",
       "      <th>Cuisines</th>\n",
       "      <th>Average_Cost</th>\n",
       "      <th>Minimum_Order</th>\n",
       "      <th>Rating</th>\n",
       "      <th>Votes</th>\n",
       "      <th>Reviews</th>\n",
       "      <th>Delivery_Time</th>\n",
       "      <th>Minorder_Cleansed</th>\n",
       "      <th>AvgCost_Cleansed</th>\n",
       "      <th>Location_Cleansed</th>\n",
       "      <th>Cuisines_Cleansed</th>\n",
       "      <th>Rating_Category</th>\n",
       "      <th>Rest_count</th>\n",
       "      <th>Rest_category</th>\n",
       "    </tr>\n",
       "  </thead>\n",
       "  <tbody>\n",
       "    <tr>\n",
       "      <th>0</th>\n",
       "      <td>ID_6321</td>\n",
       "      <td>FTI College, Law College Road, Pune</td>\n",
       "      <td>Fast Food, Rolls, Burger, Salad, Wraps</td>\n",
       "      <td>₹200</td>\n",
       "      <td>₹50</td>\n",
       "      <td>3.5</td>\n",
       "      <td>12.0</td>\n",
       "      <td>4.0</td>\n",
       "      <td>30 minutes</td>\n",
       "      <td>50</td>\n",
       "      <td>200</td>\n",
       "      <td>Pune</td>\n",
       "      <td>Fast Food</td>\n",
       "      <td>Good</td>\n",
       "      <td>1</td>\n",
       "      <td>Single outlet</td>\n",
       "    </tr>\n",
       "    <tr>\n",
       "      <th>1</th>\n",
       "      <td>ID_2882</td>\n",
       "      <td>Sector 3, Marathalli</td>\n",
       "      <td>Ice Cream, Desserts</td>\n",
       "      <td>₹100</td>\n",
       "      <td>₹50</td>\n",
       "      <td>3.5</td>\n",
       "      <td>11.0</td>\n",
       "      <td>4.0</td>\n",
       "      <td>30 minutes</td>\n",
       "      <td>50</td>\n",
       "      <td>100</td>\n",
       "      <td>Banglore</td>\n",
       "      <td>Deserts</td>\n",
       "      <td>Good</td>\n",
       "      <td>6</td>\n",
       "      <td>Chain</td>\n",
       "    </tr>\n",
       "    <tr>\n",
       "      <th>2</th>\n",
       "      <td>ID_1595</td>\n",
       "      <td>Mumbai Central</td>\n",
       "      <td>Italian, Street Food, Fast Food</td>\n",
       "      <td>₹150</td>\n",
       "      <td>₹50</td>\n",
       "      <td>3.6</td>\n",
       "      <td>99.0</td>\n",
       "      <td>30.0</td>\n",
       "      <td>65 minutes</td>\n",
       "      <td>50</td>\n",
       "      <td>150</td>\n",
       "      <td>Mumbai</td>\n",
       "      <td>Main Course</td>\n",
       "      <td>Good</td>\n",
       "      <td>3</td>\n",
       "      <td>Multiple</td>\n",
       "    </tr>\n",
       "    <tr>\n",
       "      <th>3</th>\n",
       "      <td>ID_5929</td>\n",
       "      <td>Sector 1, Noida</td>\n",
       "      <td>Mughlai, North Indian, Chinese</td>\n",
       "      <td>₹250</td>\n",
       "      <td>₹99</td>\n",
       "      <td>3.7</td>\n",
       "      <td>176.0</td>\n",
       "      <td>95.0</td>\n",
       "      <td>30 minutes</td>\n",
       "      <td>99</td>\n",
       "      <td>250</td>\n",
       "      <td>Noida</td>\n",
       "      <td>Main Course</td>\n",
       "      <td>Good</td>\n",
       "      <td>2</td>\n",
       "      <td>Multiple</td>\n",
       "    </tr>\n",
       "    <tr>\n",
       "      <th>4</th>\n",
       "      <td>ID_6123</td>\n",
       "      <td>Rmz Centennial, I Gate, Whitefield</td>\n",
       "      <td>Cafe, Beverages</td>\n",
       "      <td>₹200</td>\n",
       "      <td>₹99</td>\n",
       "      <td>3.2</td>\n",
       "      <td>521.0</td>\n",
       "      <td>235.0</td>\n",
       "      <td>65 minutes</td>\n",
       "      <td>99</td>\n",
       "      <td>200</td>\n",
       "      <td>Banglore</td>\n",
       "      <td>Fast Food</td>\n",
       "      <td>Average</td>\n",
       "      <td>1</td>\n",
       "      <td>Single outlet</td>\n",
       "    </tr>\n",
       "  </tbody>\n",
       "</table>\n",
       "</div>"
      ],
      "text/plain": [
       "  Restaurant                             Location  \\\n",
       "0    ID_6321  FTI College, Law College Road, Pune   \n",
       "1    ID_2882                 Sector 3, Marathalli   \n",
       "2    ID_1595                       Mumbai Central   \n",
       "3    ID_5929                      Sector 1, Noida   \n",
       "4    ID_6123   Rmz Centennial, I Gate, Whitefield   \n",
       "\n",
       "                                 Cuisines Average_Cost Minimum_Order  Rating  \\\n",
       "0  Fast Food, Rolls, Burger, Salad, Wraps         ₹200           ₹50     3.5   \n",
       "1                     Ice Cream, Desserts         ₹100           ₹50     3.5   \n",
       "2         Italian, Street Food, Fast Food         ₹150           ₹50     3.6   \n",
       "3          Mughlai, North Indian, Chinese         ₹250           ₹99     3.7   \n",
       "4                         Cafe, Beverages         ₹200           ₹99     3.2   \n",
       "\n",
       "   Votes  Reviews Delivery_Time  Minorder_Cleansed  AvgCost_Cleansed  \\\n",
       "0   12.0      4.0    30 minutes                 50               200   \n",
       "1   11.0      4.0    30 minutes                 50               100   \n",
       "2   99.0     30.0    65 minutes                 50               150   \n",
       "3  176.0     95.0    30 minutes                 99               250   \n",
       "4  521.0    235.0    65 minutes                 99               200   \n",
       "\n",
       "  Location_Cleansed Cuisines_Cleansed Rating_Category  Rest_count  \\\n",
       "0              Pune         Fast Food            Good           1   \n",
       "1          Banglore           Deserts            Good           6   \n",
       "2            Mumbai       Main Course            Good           3   \n",
       "3             Noida       Main Course            Good           2   \n",
       "4          Banglore         Fast Food         Average           1   \n",
       "\n",
       "   Rest_category  \n",
       "0  Single outlet  \n",
       "1          Chain  \n",
       "2       Multiple  \n",
       "3       Multiple  \n",
       "4  Single outlet  "
      ]
     },
     "execution_count": 229,
     "metadata": {},
     "output_type": "execute_result"
    }
   ],
   "source": [
    "combined.head()"
   ]
  },
  {
   "cell_type": "code",
   "execution_count": 230,
   "metadata": {},
   "outputs": [],
   "source": [
    "# split the data in train and test\n",
    "newtrain=combined.loc[:train.shape[0]-1]"
   ]
  },
  {
   "cell_type": "code",
   "execution_count": 231,
   "metadata": {},
   "outputs": [],
   "source": [
    "newtest=combined.loc[11094:combined.shape[0]]"
   ]
  },
  {
   "cell_type": "code",
   "execution_count": null,
   "metadata": {},
   "outputs": [],
   "source": []
  },
  {
   "cell_type": "code",
   "execution_count": 232,
   "metadata": {},
   "outputs": [],
   "source": [
    "train_new=newtrain.drop(['Restaurant', 'Location', 'Cuisines', 'Average_Cost', 'Minimum_Order','Rating'],axis=1)\n",
    "\n",
    "test_new=newtest.drop(['Restaurant', 'Location', 'Cuisines', 'Average_Cost', 'Minimum_Order','Rating','Delivery_Time'],axis=1)"
   ]
  },
  {
   "cell_type": "code",
   "execution_count": 180,
   "metadata": {},
   "outputs": [
    {
     "name": "stderr",
     "output_type": "stream",
     "text": [
      "C:\\Users\\hp\\Anaconda3\\lib\\site-packages\\statsmodels\\nonparametric\\kde.py:487: RuntimeWarning: invalid value encountered in true_divide\n",
      "  binned = fast_linbin(X, a, b, gridsize) / (delta * nobs)\n",
      "C:\\Users\\hp\\Anaconda3\\lib\\site-packages\\statsmodels\\nonparametric\\kdetools.py:34: RuntimeWarning: invalid value encountered in double_scalars\n",
      "  FAC1 = 2*(np.pi*bw/RANGE)**2\n"
     ]
    },
    {
     "data": {
      "text/plain": [
       "<seaborn.axisgrid.PairGrid at 0x12a5940d3c8>"
      ]
     },
     "execution_count": 180,
     "metadata": {},
     "output_type": "execute_result"
    },
    {
     "data": {
      "image/png": "[encoded data removed]",
      "text/plain": [
       "<Figure size 1178.62x1080 with 42 Axes>"
      ]
     },
     "metadata": {
      "needs_background": "light"
     },
     "output_type": "display_data"
    }
   ],
   "source": [
    "sns.pairplot(train_new,hue='Delivery_Time')"
   ]
  },
  {
   "cell_type": "markdown",
   "metadata": {},
   "source": [
    "## Problem Statement - I want to find out if rating has an impact on the delivery time\n",
    "\n",
    "##  null hypothesis\n",
    "H0: there is no impact on delivery time vs rating.\n",
    "## Alternate hypothesis \n",
    "H1: there is impact on delivery time vs rating . \n",
    "## test of significance - Anova / Ftest\n",
    "since one columns in numerical and another in categorical \n",
    "\n",
    "    "
   ]
  },
  {
   "cell_type": "code",
   "execution_count": 233,
   "metadata": {},
   "outputs": [],
   "source": [
    "import scipy.stats as stats\n",
    "import statsmodels.api as sms # anova table library\n",
    "from statsmodels.formula.api import ols # regression fit librarry"
   ]
  },
  {
   "cell_type": "code",
   "execution_count": 234,
   "metadata": {},
   "outputs": [
    {
     "ename": "PatsyError",
     "evalue": "Error evaluating factor: NameError: name 'Rating' is not defined\n    Rating~Delivery_Time\n    ^^^^^^",
     "output_type": "error",
     "traceback": [
      "\u001b[1;31m---------------------------------------------------------------------------\u001b[0m",
      "\u001b[1;31mNameError\u001b[0m                                 Traceback (most recent call last)",
      "\u001b[1;32m~\\Anaconda3\\lib\\site-packages\\patsy\\compat.py\u001b[0m in \u001b[0;36mcall_and_wrap_exc\u001b[1;34m(msg, origin, f, *args, **kwargs)\u001b[0m\n\u001b[0;32m     35\u001b[0m     \u001b[1;32mtry\u001b[0m\u001b[1;33m:\u001b[0m\u001b[1;33m\u001b[0m\u001b[1;33m\u001b[0m\u001b[0m\n\u001b[1;32m---> 36\u001b[1;33m         \u001b[1;32mreturn\u001b[0m \u001b[0mf\u001b[0m\u001b[1;33m(\u001b[0m\u001b[1;33m*\u001b[0m\u001b[0margs\u001b[0m\u001b[1;33m,\u001b[0m \u001b[1;33m**\u001b[0m\u001b[0mkwargs\u001b[0m\u001b[1;33m)\u001b[0m\u001b[1;33m\u001b[0m\u001b[1;33m\u001b[0m\u001b[0m\n\u001b[0m\u001b[0;32m     37\u001b[0m     \u001b[1;32mexcept\u001b[0m \u001b[0mException\u001b[0m \u001b[1;32mas\u001b[0m \u001b[0me\u001b[0m\u001b[1;33m:\u001b[0m\u001b[1;33m\u001b[0m\u001b[1;33m\u001b[0m\u001b[0m\n",
      "\u001b[1;32m~\\Anaconda3\\lib\\site-packages\\patsy\\eval.py\u001b[0m in \u001b[0;36meval\u001b[1;34m(self, expr, source_name, inner_namespace)\u001b[0m\n\u001b[0;32m    165\u001b[0m         return eval(code, {}, VarLookupDict([inner_namespace]\n\u001b[1;32m--> 166\u001b[1;33m                                             + self._namespaces))\n\u001b[0m\u001b[0;32m    167\u001b[0m \u001b[1;33m\u001b[0m\u001b[0m\n",
      "\u001b[1;32m<string>\u001b[0m in \u001b[0;36m<module>\u001b[1;34m\u001b[0m\n",
      "\u001b[1;31mNameError\u001b[0m: name 'Rating' is not defined",
      "\nThe above exception was the direct cause of the following exception:\n",
      "\u001b[1;31mPatsyError\u001b[0m                                Traceback (most recent call last)",
      "\u001b[1;32m<ipython-input-234-758a58104ae2>\u001b[0m in \u001b[0;36m<module>\u001b[1;34m\u001b[0m\n\u001b[0;32m      1\u001b[0m \u001b[1;31m# lets fit ols\u001b[0m\u001b[1;33m\u001b[0m\u001b[1;33m\u001b[0m\u001b[1;33m\u001b[0m\u001b[0m\n\u001b[1;32m----> 2\u001b[1;33m \u001b[0mmodel\u001b[0m\u001b[1;33m=\u001b[0m\u001b[0mols\u001b[0m\u001b[1;33m(\u001b[0m\u001b[1;34m'Rating~Delivery_Time'\u001b[0m\u001b[1;33m,\u001b[0m\u001b[0mdata\u001b[0m\u001b[1;33m=\u001b[0m\u001b[0mtrain_new\u001b[0m\u001b[1;33m)\u001b[0m\u001b[1;33m.\u001b[0m\u001b[0mfit\u001b[0m\u001b[1;33m(\u001b[0m\u001b[1;33m)\u001b[0m\u001b[1;33m\u001b[0m\u001b[1;33m\u001b[0m\u001b[0m\n\u001b[0m",
      "\u001b[1;32m~\\Anaconda3\\lib\\site-packages\\statsmodels\\base\\model.py\u001b[0m in \u001b[0;36mfrom_formula\u001b[1;34m(cls, formula, data, subset, drop_cols, *args, **kwargs)\u001b[0m\n\u001b[0;32m    157\u001b[0m \u001b[1;33m\u001b[0m\u001b[0m\n\u001b[0;32m    158\u001b[0m         tmp = handle_formula_data(data, None, formula, depth=eval_env,\n\u001b[1;32m--> 159\u001b[1;33m                                   missing=missing)\n\u001b[0m\u001b[0;32m    160\u001b[0m         \u001b[1;33m(\u001b[0m\u001b[1;33m(\u001b[0m\u001b[0mendog\u001b[0m\u001b[1;33m,\u001b[0m \u001b[0mexog\u001b[0m\u001b[1;33m)\u001b[0m\u001b[1;33m,\u001b[0m \u001b[0mmissing_idx\u001b[0m\u001b[1;33m,\u001b[0m \u001b[0mdesign_info\u001b[0m\u001b[1;33m)\u001b[0m \u001b[1;33m=\u001b[0m \u001b[0mtmp\u001b[0m\u001b[1;33m\u001b[0m\u001b[1;33m\u001b[0m\u001b[0m\n\u001b[0;32m    161\u001b[0m \u001b[1;33m\u001b[0m\u001b[0m\n",
      "\u001b[1;32m~\\Anaconda3\\lib\\site-packages\\statsmodels\\formula\\formulatools.py\u001b[0m in \u001b[0;36mhandle_formula_data\u001b[1;34m(Y, X, formula, depth, missing)\u001b[0m\n\u001b[0;32m     63\u001b[0m         \u001b[1;32mif\u001b[0m \u001b[0mdata_util\u001b[0m\u001b[1;33m.\u001b[0m\u001b[0m_is_using_pandas\u001b[0m\u001b[1;33m(\u001b[0m\u001b[0mY\u001b[0m\u001b[1;33m,\u001b[0m \u001b[1;32mNone\u001b[0m\u001b[1;33m)\u001b[0m\u001b[1;33m:\u001b[0m\u001b[1;33m\u001b[0m\u001b[1;33m\u001b[0m\u001b[0m\n\u001b[0;32m     64\u001b[0m             result = dmatrices(formula, Y, depth, return_type='dataframe',\n\u001b[1;32m---> 65\u001b[1;33m                                NA_action=na_action)\n\u001b[0m\u001b[0;32m     66\u001b[0m         \u001b[1;32melse\u001b[0m\u001b[1;33m:\u001b[0m\u001b[1;33m\u001b[0m\u001b[1;33m\u001b[0m\u001b[0m\n\u001b[0;32m     67\u001b[0m             result = dmatrices(formula, Y, depth, return_type='dataframe',\n",
      "\u001b[1;32m~\\Anaconda3\\lib\\site-packages\\patsy\\highlevel.py\u001b[0m in \u001b[0;36mdmatrices\u001b[1;34m(formula_like, data, eval_env, NA_action, return_type)\u001b[0m\n\u001b[0;32m    308\u001b[0m     \u001b[0meval_env\u001b[0m \u001b[1;33m=\u001b[0m \u001b[0mEvalEnvironment\u001b[0m\u001b[1;33m.\u001b[0m\u001b[0mcapture\u001b[0m\u001b[1;33m(\u001b[0m\u001b[0meval_env\u001b[0m\u001b[1;33m,\u001b[0m \u001b[0mreference\u001b[0m\u001b[1;33m=\u001b[0m\u001b[1;36m1\u001b[0m\u001b[1;33m)\u001b[0m\u001b[1;33m\u001b[0m\u001b[1;33m\u001b[0m\u001b[0m\n\u001b[0;32m    309\u001b[0m     (lhs, rhs) = _do_highlevel_design(formula_like, data, eval_env,\n\u001b[1;32m--> 310\u001b[1;33m                                       NA_action, return_type)\n\u001b[0m\u001b[0;32m    311\u001b[0m     \u001b[1;32mif\u001b[0m \u001b[0mlhs\u001b[0m\u001b[1;33m.\u001b[0m\u001b[0mshape\u001b[0m\u001b[1;33m[\u001b[0m\u001b[1;36m1\u001b[0m\u001b[1;33m]\u001b[0m \u001b[1;33m==\u001b[0m \u001b[1;36m0\u001b[0m\u001b[1;33m:\u001b[0m\u001b[1;33m\u001b[0m\u001b[1;33m\u001b[0m\u001b[0m\n\u001b[0;32m    312\u001b[0m         \u001b[1;32mraise\u001b[0m \u001b[0mPatsyError\u001b[0m\u001b[1;33m(\u001b[0m\u001b[1;34m\"model is missing required outcome variables\"\u001b[0m\u001b[1;33m)\u001b[0m\u001b[1;33m\u001b[0m\u001b[1;33m\u001b[0m\u001b[0m\n",
      "\u001b[1;32m~\\Anaconda3\\lib\\site-packages\\patsy\\highlevel.py\u001b[0m in \u001b[0;36m_do_highlevel_design\u001b[1;34m(formula_like, data, eval_env, NA_action, return_type)\u001b[0m\n\u001b[0;32m    163\u001b[0m         \u001b[1;32mreturn\u001b[0m \u001b[0miter\u001b[0m\u001b[1;33m(\u001b[0m\u001b[1;33m[\u001b[0m\u001b[0mdata\u001b[0m\u001b[1;33m]\u001b[0m\u001b[1;33m)\u001b[0m\u001b[1;33m\u001b[0m\u001b[1;33m\u001b[0m\u001b[0m\n\u001b[0;32m    164\u001b[0m     design_infos = _try_incr_builders(formula_like, data_iter_maker, eval_env,\n\u001b[1;32m--> 165\u001b[1;33m                                       NA_action)\n\u001b[0m\u001b[0;32m    166\u001b[0m     \u001b[1;32mif\u001b[0m \u001b[0mdesign_infos\u001b[0m \u001b[1;32mis\u001b[0m \u001b[1;32mnot\u001b[0m \u001b[1;32mNone\u001b[0m\u001b[1;33m:\u001b[0m\u001b[1;33m\u001b[0m\u001b[1;33m\u001b[0m\u001b[0m\n\u001b[0;32m    167\u001b[0m         return build_design_matrices(design_infos, data,\n",
      "\u001b[1;32m~\\Anaconda3\\lib\\site-packages\\patsy\\highlevel.py\u001b[0m in \u001b[0;36m_try_incr_builders\u001b[1;34m(formula_like, data_iter_maker, eval_env, NA_action)\u001b[0m\n\u001b[0;32m     68\u001b[0m                                       \u001b[0mdata_iter_maker\u001b[0m\u001b[1;33m,\u001b[0m\u001b[1;33m\u001b[0m\u001b[1;33m\u001b[0m\u001b[0m\n\u001b[0;32m     69\u001b[0m                                       \u001b[0meval_env\u001b[0m\u001b[1;33m,\u001b[0m\u001b[1;33m\u001b[0m\u001b[1;33m\u001b[0m\u001b[0m\n\u001b[1;32m---> 70\u001b[1;33m                                       NA_action)\n\u001b[0m\u001b[0;32m     71\u001b[0m     \u001b[1;32melse\u001b[0m\u001b[1;33m:\u001b[0m\u001b[1;33m\u001b[0m\u001b[1;33m\u001b[0m\u001b[0m\n\u001b[0;32m     72\u001b[0m         \u001b[1;32mreturn\u001b[0m \u001b[1;32mNone\u001b[0m\u001b[1;33m\u001b[0m\u001b[1;33m\u001b[0m\u001b[0m\n",
      "\u001b[1;32m~\\Anaconda3\\lib\\site-packages\\patsy\\build.py\u001b[0m in \u001b[0;36mdesign_matrix_builders\u001b[1;34m(termlists, data_iter_maker, eval_env, NA_action)\u001b[0m\n\u001b[0;32m    694\u001b[0m                                                    \u001b[0mfactor_states\u001b[0m\u001b[1;33m,\u001b[0m\u001b[1;33m\u001b[0m\u001b[1;33m\u001b[0m\u001b[0m\n\u001b[0;32m    695\u001b[0m                                                    \u001b[0mdata_iter_maker\u001b[0m\u001b[1;33m,\u001b[0m\u001b[1;33m\u001b[0m\u001b[1;33m\u001b[0m\u001b[0m\n\u001b[1;32m--> 696\u001b[1;33m                                                    NA_action)\n\u001b[0m\u001b[0;32m    697\u001b[0m     \u001b[1;31m# Now we need the factor infos, which encapsulate the knowledge of\u001b[0m\u001b[1;33m\u001b[0m\u001b[1;33m\u001b[0m\u001b[1;33m\u001b[0m\u001b[0m\n\u001b[0;32m    698\u001b[0m     \u001b[1;31m# how to turn any given factor into a chunk of data:\u001b[0m\u001b[1;33m\u001b[0m\u001b[1;33m\u001b[0m\u001b[1;33m\u001b[0m\u001b[0m\n",
      "\u001b[1;32m~\\Anaconda3\\lib\\site-packages\\patsy\\build.py\u001b[0m in \u001b[0;36m_examine_factor_types\u001b[1;34m(factors, factor_states, data_iter_maker, NA_action)\u001b[0m\n\u001b[0;32m    441\u001b[0m     \u001b[1;32mfor\u001b[0m \u001b[0mdata\u001b[0m \u001b[1;32min\u001b[0m \u001b[0mdata_iter_maker\u001b[0m\u001b[1;33m(\u001b[0m\u001b[1;33m)\u001b[0m\u001b[1;33m:\u001b[0m\u001b[1;33m\u001b[0m\u001b[1;33m\u001b[0m\u001b[0m\n\u001b[0;32m    442\u001b[0m         \u001b[1;32mfor\u001b[0m \u001b[0mfactor\u001b[0m \u001b[1;32min\u001b[0m \u001b[0mlist\u001b[0m\u001b[1;33m(\u001b[0m\u001b[0mexamine_needed\u001b[0m\u001b[1;33m)\u001b[0m\u001b[1;33m:\u001b[0m\u001b[1;33m\u001b[0m\u001b[1;33m\u001b[0m\u001b[0m\n\u001b[1;32m--> 443\u001b[1;33m             \u001b[0mvalue\u001b[0m \u001b[1;33m=\u001b[0m \u001b[0mfactor\u001b[0m\u001b[1;33m.\u001b[0m\u001b[0meval\u001b[0m\u001b[1;33m(\u001b[0m\u001b[0mfactor_states\u001b[0m\u001b[1;33m[\u001b[0m\u001b[0mfactor\u001b[0m\u001b[1;33m]\u001b[0m\u001b[1;33m,\u001b[0m \u001b[0mdata\u001b[0m\u001b[1;33m)\u001b[0m\u001b[1;33m\u001b[0m\u001b[1;33m\u001b[0m\u001b[0m\n\u001b[0m\u001b[0;32m    444\u001b[0m             \u001b[1;32mif\u001b[0m \u001b[0mfactor\u001b[0m \u001b[1;32min\u001b[0m \u001b[0mcat_sniffers\u001b[0m \u001b[1;32mor\u001b[0m \u001b[0mguess_categorical\u001b[0m\u001b[1;33m(\u001b[0m\u001b[0mvalue\u001b[0m\u001b[1;33m)\u001b[0m\u001b[1;33m:\u001b[0m\u001b[1;33m\u001b[0m\u001b[1;33m\u001b[0m\u001b[0m\n\u001b[0;32m    445\u001b[0m                 \u001b[1;32mif\u001b[0m \u001b[0mfactor\u001b[0m \u001b[1;32mnot\u001b[0m \u001b[1;32min\u001b[0m \u001b[0mcat_sniffers\u001b[0m\u001b[1;33m:\u001b[0m\u001b[1;33m\u001b[0m\u001b[1;33m\u001b[0m\u001b[0m\n",
      "\u001b[1;32m~\\Anaconda3\\lib\\site-packages\\patsy\\eval.py\u001b[0m in \u001b[0;36meval\u001b[1;34m(self, memorize_state, data)\u001b[0m\n\u001b[0;32m    564\u001b[0m         return self._eval(memorize_state[\"eval_code\"],\n\u001b[0;32m    565\u001b[0m                           \u001b[0mmemorize_state\u001b[0m\u001b[1;33m,\u001b[0m\u001b[1;33m\u001b[0m\u001b[1;33m\u001b[0m\u001b[0m\n\u001b[1;32m--> 566\u001b[1;33m                           data)\n\u001b[0m\u001b[0;32m    567\u001b[0m \u001b[1;33m\u001b[0m\u001b[0m\n\u001b[0;32m    568\u001b[0m     \u001b[0m__getstate__\u001b[0m \u001b[1;33m=\u001b[0m \u001b[0mno_pickling\u001b[0m\u001b[1;33m\u001b[0m\u001b[1;33m\u001b[0m\u001b[0m\n",
      "\u001b[1;32m~\\Anaconda3\\lib\\site-packages\\patsy\\eval.py\u001b[0m in \u001b[0;36m_eval\u001b[1;34m(self, code, memorize_state, data)\u001b[0m\n\u001b[0;32m    549\u001b[0m                                  \u001b[0mmemorize_state\u001b[0m\u001b[1;33m[\u001b[0m\u001b[1;34m\"eval_env\"\u001b[0m\u001b[1;33m]\u001b[0m\u001b[1;33m.\u001b[0m\u001b[0meval\u001b[0m\u001b[1;33m,\u001b[0m\u001b[1;33m\u001b[0m\u001b[1;33m\u001b[0m\u001b[0m\n\u001b[0;32m    550\u001b[0m                                  \u001b[0mcode\u001b[0m\u001b[1;33m,\u001b[0m\u001b[1;33m\u001b[0m\u001b[1;33m\u001b[0m\u001b[0m\n\u001b[1;32m--> 551\u001b[1;33m                                  inner_namespace=inner_namespace)\n\u001b[0m\u001b[0;32m    552\u001b[0m \u001b[1;33m\u001b[0m\u001b[0m\n\u001b[0;32m    553\u001b[0m     \u001b[1;32mdef\u001b[0m \u001b[0mmemorize_chunk\u001b[0m\u001b[1;33m(\u001b[0m\u001b[0mself\u001b[0m\u001b[1;33m,\u001b[0m \u001b[0mstate\u001b[0m\u001b[1;33m,\u001b[0m \u001b[0mwhich_pass\u001b[0m\u001b[1;33m,\u001b[0m \u001b[0mdata\u001b[0m\u001b[1;33m)\u001b[0m\u001b[1;33m:\u001b[0m\u001b[1;33m\u001b[0m\u001b[1;33m\u001b[0m\u001b[0m\n",
      "\u001b[1;32m~\\Anaconda3\\lib\\site-packages\\patsy\\compat.py\u001b[0m in \u001b[0;36mcall_and_wrap_exc\u001b[1;34m(msg, origin, f, *args, **kwargs)\u001b[0m\n\u001b[0;32m     41\u001b[0m                                  origin)\n\u001b[0;32m     42\u001b[0m             \u001b[1;31m# Use 'exec' to hide this syntax from the Python 2 parser:\u001b[0m\u001b[1;33m\u001b[0m\u001b[1;33m\u001b[0m\u001b[1;33m\u001b[0m\u001b[0m\n\u001b[1;32m---> 43\u001b[1;33m             \u001b[0mexec\u001b[0m\u001b[1;33m(\u001b[0m\u001b[1;34m\"raise new_exc from e\"\u001b[0m\u001b[1;33m)\u001b[0m\u001b[1;33m\u001b[0m\u001b[1;33m\u001b[0m\u001b[0m\n\u001b[0m\u001b[0;32m     44\u001b[0m         \u001b[1;32melse\u001b[0m\u001b[1;33m:\u001b[0m\u001b[1;33m\u001b[0m\u001b[1;33m\u001b[0m\u001b[0m\n\u001b[0;32m     45\u001b[0m             \u001b[1;31m# In python 2, we just let the original exception escape -- better\u001b[0m\u001b[1;33m\u001b[0m\u001b[1;33m\u001b[0m\u001b[1;33m\u001b[0m\u001b[0m\n",
      "\u001b[1;32m~\\Anaconda3\\lib\\site-packages\\patsy\\compat.py\u001b[0m in \u001b[0;36m<module>\u001b[1;34m\u001b[0m\n",
      "\u001b[1;31mPatsyError\u001b[0m: Error evaluating factor: NameError: name 'Rating' is not defined\n    Rating~Delivery_Time\n    ^^^^^^"
     ]
    }
   ],
   "source": [
    "# lets fit ols\n",
    "model=ols('Rating~Delivery_Time',data=train_new).fit()"
   ]
  },
  {
   "cell_type": "code",
   "execution_count": null,
   "metadata": {},
   "outputs": [],
   "source": [
    "sms.stats.anova_lm(model)"
   ]
  },
  {
   "cell_type": "markdown",
   "metadata": {},
   "source": [
    "## summary of test\n",
    "1. If columns are numericals in nature and no population matrix ig given then t-test is ideal test\n",
    "2. If 1 column is numerical and other is categorical then the variance can be explained by ANOVA\n",
    "3. If both columns are categorical in nature then use chi-square test of goodness of fit.# chi-square test isa right tailed test in nature"
   ]
  },
  {
   "cell_type": "code",
   "execution_count": 235,
   "metadata": {},
   "outputs": [],
   "source": [
    "## p-value- probability of null hypothesis of being true"
   ]
  },
  {
   "cell_type": "code",
   "execution_count": 236,
   "metadata": {},
   "outputs": [
    {
     "data": {
      "text/html": [
       "<div>\n",
       "<style scoped>\n",
       "    .dataframe tbody tr th:only-of-type {\n",
       "        vertical-align: middle;\n",
       "    }\n",
       "\n",
       "    .dataframe tbody tr th {\n",
       "        vertical-align: top;\n",
       "    }\n",
       "\n",
       "    .dataframe thead th {\n",
       "        text-align: right;\n",
       "    }\n",
       "</style>\n",
       "<table border=\"1\" class=\"dataframe\">\n",
       "  <thead>\n",
       "    <tr style=\"text-align: right;\">\n",
       "      <th></th>\n",
       "      <th>Votes</th>\n",
       "      <th>Reviews</th>\n",
       "      <th>Delivery_Time</th>\n",
       "      <th>Minorder_Cleansed</th>\n",
       "      <th>AvgCost_Cleansed</th>\n",
       "      <th>Location_Cleansed</th>\n",
       "      <th>Cuisines_Cleansed</th>\n",
       "      <th>Rating_Category</th>\n",
       "      <th>Rest_count</th>\n",
       "      <th>Rest_category</th>\n",
       "    </tr>\n",
       "  </thead>\n",
       "  <tbody>\n",
       "    <tr>\n",
       "      <th>0</th>\n",
       "      <td>12.0</td>\n",
       "      <td>4.0</td>\n",
       "      <td>30 minutes</td>\n",
       "      <td>50</td>\n",
       "      <td>200</td>\n",
       "      <td>Pune</td>\n",
       "      <td>Fast Food</td>\n",
       "      <td>Good</td>\n",
       "      <td>1</td>\n",
       "      <td>Single outlet</td>\n",
       "    </tr>\n",
       "    <tr>\n",
       "      <th>1</th>\n",
       "      <td>11.0</td>\n",
       "      <td>4.0</td>\n",
       "      <td>30 minutes</td>\n",
       "      <td>50</td>\n",
       "      <td>100</td>\n",
       "      <td>Banglore</td>\n",
       "      <td>Deserts</td>\n",
       "      <td>Good</td>\n",
       "      <td>6</td>\n",
       "      <td>Chain</td>\n",
       "    </tr>\n",
       "    <tr>\n",
       "      <th>2</th>\n",
       "      <td>99.0</td>\n",
       "      <td>30.0</td>\n",
       "      <td>65 minutes</td>\n",
       "      <td>50</td>\n",
       "      <td>150</td>\n",
       "      <td>Mumbai</td>\n",
       "      <td>Main Course</td>\n",
       "      <td>Good</td>\n",
       "      <td>3</td>\n",
       "      <td>Multiple</td>\n",
       "    </tr>\n",
       "    <tr>\n",
       "      <th>3</th>\n",
       "      <td>176.0</td>\n",
       "      <td>95.0</td>\n",
       "      <td>30 minutes</td>\n",
       "      <td>99</td>\n",
       "      <td>250</td>\n",
       "      <td>Noida</td>\n",
       "      <td>Main Course</td>\n",
       "      <td>Good</td>\n",
       "      <td>2</td>\n",
       "      <td>Multiple</td>\n",
       "    </tr>\n",
       "    <tr>\n",
       "      <th>4</th>\n",
       "      <td>521.0</td>\n",
       "      <td>235.0</td>\n",
       "      <td>65 minutes</td>\n",
       "      <td>99</td>\n",
       "      <td>200</td>\n",
       "      <td>Banglore</td>\n",
       "      <td>Fast Food</td>\n",
       "      <td>Average</td>\n",
       "      <td>1</td>\n",
       "      <td>Single outlet</td>\n",
       "    </tr>\n",
       "  </tbody>\n",
       "</table>\n",
       "</div>"
      ],
      "text/plain": [
       "   Votes  Reviews Delivery_Time  Minorder_Cleansed  AvgCost_Cleansed  \\\n",
       "0   12.0      4.0    30 minutes                 50               200   \n",
       "1   11.0      4.0    30 minutes                 50               100   \n",
       "2   99.0     30.0    65 minutes                 50               150   \n",
       "3  176.0     95.0    30 minutes                 99               250   \n",
       "4  521.0    235.0    65 minutes                 99               200   \n",
       "\n",
       "  Location_Cleansed Cuisines_Cleansed Rating_Category  Rest_count  \\\n",
       "0              Pune         Fast Food            Good           1   \n",
       "1          Banglore           Deserts            Good           6   \n",
       "2            Mumbai       Main Course            Good           3   \n",
       "3             Noida       Main Course            Good           2   \n",
       "4          Banglore         Fast Food         Average           1   \n",
       "\n",
       "   Rest_category  \n",
       "0  Single outlet  \n",
       "1          Chain  \n",
       "2       Multiple  \n",
       "3       Multiple  \n",
       "4  Single outlet  "
      ]
     },
     "execution_count": 236,
     "metadata": {},
     "output_type": "execute_result"
    }
   ],
   "source": [
    "train_new.head()"
   ]
  },
  {
   "cell_type": "markdown",
   "metadata": {},
   "source": [
    "##  Introduction to ensembles"
   ]
  },
  {
   "cell_type": "code",
   "execution_count": 237,
   "metadata": {},
   "outputs": [],
   "source": [
    "# dealing with target variable\n",
    "\n",
    "from sklearn.preprocessing import StandardScaler,LabelEncoder"
   ]
  },
  {
   "cell_type": "code",
   "execution_count": 238,
   "metadata": {},
   "outputs": [],
   "source": [
    "le=LabelEncoder() # created a machine called Le that has label encoder"
   ]
  },
  {
   "cell_type": "code",
   "execution_count": 239,
   "metadata": {},
   "outputs": [],
   "source": [
    "train_new[\"Delivery_TimeCoded\"]=le.fit_transform(train_new.Delivery_Time)"
   ]
  },
  {
   "cell_type": "code",
   "execution_count": 240,
   "metadata": {},
   "outputs": [],
   "source": [
    "# drop the feature Delivery time\n",
    "finaltrain=train_new.drop(\"Delivery_Time\",axis=1)"
   ]
  },
  {
   "cell_type": "code",
   "execution_count": 241,
   "metadata": {},
   "outputs": [
    {
     "name": "stdout",
     "output_type": "stream",
     "text": [
      "<class 'pandas.core.frame.DataFrame'>\n",
      "RangeIndex: 11094 entries, 0 to 11093\n",
      "Data columns (total 10 columns):\n",
      "Votes                 11094 non-null float64\n",
      "Reviews               11094 non-null float64\n",
      "Minorder_Cleansed     11094 non-null int64\n",
      "AvgCost_Cleansed      11094 non-null int64\n",
      "Location_Cleansed     11094 non-null object\n",
      "Cuisines_Cleansed     11094 non-null object\n",
      "Rating_Category       11094 non-null object\n",
      "Rest_count            11094 non-null int64\n",
      "Rest_category         11094 non-null object\n",
      "Delivery_TimeCoded    11094 non-null int32\n",
      "dtypes: float64(2), int32(1), int64(3), object(4)\n",
      "memory usage: 823.5+ KB\n"
     ]
    }
   ],
   "source": [
    "finaltrain.info()"
   ]
  },
  {
   "cell_type": "code",
   "execution_count": 242,
   "metadata": {},
   "outputs": [],
   "source": [
    "# applying one hot encoding\n",
    "dummytrain=pd.get_dummies(finaltrain)\n"
   ]
  },
  {
   "cell_type": "code",
   "execution_count": 243,
   "metadata": {},
   "outputs": [
    {
     "name": "stdout",
     "output_type": "stream",
     "text": [
      "(11094, 10)\n",
      "(11094, 26)\n"
     ]
    }
   ],
   "source": [
    "print(finaltrain.shape)\n",
    "print(dummytrain.shape)"
   ]
  },
  {
   "cell_type": "code",
   "execution_count": 244,
   "metadata": {},
   "outputs": [
    {
     "data": {
      "text/html": [
       "<div>\n",
       "<style scoped>\n",
       "    .dataframe tbody tr th:only-of-type {\n",
       "        vertical-align: middle;\n",
       "    }\n",
       "\n",
       "    .dataframe tbody tr th {\n",
       "        vertical-align: top;\n",
       "    }\n",
       "\n",
       "    .dataframe thead th {\n",
       "        text-align: right;\n",
       "    }\n",
       "</style>\n",
       "<table border=\"1\" class=\"dataframe\">\n",
       "  <thead>\n",
       "    <tr style=\"text-align: right;\">\n",
       "      <th></th>\n",
       "      <th>Votes</th>\n",
       "      <th>Reviews</th>\n",
       "      <th>Minorder_Cleansed</th>\n",
       "      <th>AvgCost_Cleansed</th>\n",
       "      <th>Rest_count</th>\n",
       "      <th>Delivery_TimeCoded</th>\n",
       "      <th>Location_Cleansed_Banglore</th>\n",
       "      <th>Location_Cleansed_Delhi</th>\n",
       "      <th>Location_Cleansed_Gurgoan</th>\n",
       "      <th>Location_Cleansed_Hyderabad</th>\n",
       "      <th>...</th>\n",
       "      <th>Cuisines_Cleansed_Fast Food</th>\n",
       "      <th>Cuisines_Cleansed_Main Course</th>\n",
       "      <th>Rating_Category_Average</th>\n",
       "      <th>Rating_Category_Excellent</th>\n",
       "      <th>Rating_Category_Good</th>\n",
       "      <th>Rating_Category_Poor</th>\n",
       "      <th>Rating_Category_Very Good</th>\n",
       "      <th>Rest_category_Chain</th>\n",
       "      <th>Rest_category_Multiple</th>\n",
       "      <th>Rest_category_Single outlet</th>\n",
       "    </tr>\n",
       "  </thead>\n",
       "  <tbody>\n",
       "    <tr>\n",
       "      <th>0</th>\n",
       "      <td>12.0</td>\n",
       "      <td>4.0</td>\n",
       "      <td>50</td>\n",
       "      <td>200</td>\n",
       "      <td>1</td>\n",
       "      <td>3</td>\n",
       "      <td>0</td>\n",
       "      <td>0</td>\n",
       "      <td>0</td>\n",
       "      <td>0</td>\n",
       "      <td>...</td>\n",
       "      <td>1</td>\n",
       "      <td>0</td>\n",
       "      <td>0</td>\n",
       "      <td>0</td>\n",
       "      <td>1</td>\n",
       "      <td>0</td>\n",
       "      <td>0</td>\n",
       "      <td>0</td>\n",
       "      <td>0</td>\n",
       "      <td>1</td>\n",
       "    </tr>\n",
       "    <tr>\n",
       "      <th>1</th>\n",
       "      <td>11.0</td>\n",
       "      <td>4.0</td>\n",
       "      <td>50</td>\n",
       "      <td>100</td>\n",
       "      <td>6</td>\n",
       "      <td>3</td>\n",
       "      <td>1</td>\n",
       "      <td>0</td>\n",
       "      <td>0</td>\n",
       "      <td>0</td>\n",
       "      <td>...</td>\n",
       "      <td>0</td>\n",
       "      <td>0</td>\n",
       "      <td>0</td>\n",
       "      <td>0</td>\n",
       "      <td>1</td>\n",
       "      <td>0</td>\n",
       "      <td>0</td>\n",
       "      <td>1</td>\n",
       "      <td>0</td>\n",
       "      <td>0</td>\n",
       "    </tr>\n",
       "    <tr>\n",
       "      <th>2</th>\n",
       "      <td>99.0</td>\n",
       "      <td>30.0</td>\n",
       "      <td>50</td>\n",
       "      <td>150</td>\n",
       "      <td>3</td>\n",
       "      <td>5</td>\n",
       "      <td>0</td>\n",
       "      <td>0</td>\n",
       "      <td>0</td>\n",
       "      <td>0</td>\n",
       "      <td>...</td>\n",
       "      <td>0</td>\n",
       "      <td>1</td>\n",
       "      <td>0</td>\n",
       "      <td>0</td>\n",
       "      <td>1</td>\n",
       "      <td>0</td>\n",
       "      <td>0</td>\n",
       "      <td>0</td>\n",
       "      <td>1</td>\n",
       "      <td>0</td>\n",
       "    </tr>\n",
       "    <tr>\n",
       "      <th>3</th>\n",
       "      <td>176.0</td>\n",
       "      <td>95.0</td>\n",
       "      <td>99</td>\n",
       "      <td>250</td>\n",
       "      <td>2</td>\n",
       "      <td>3</td>\n",
       "      <td>0</td>\n",
       "      <td>0</td>\n",
       "      <td>0</td>\n",
       "      <td>0</td>\n",
       "      <td>...</td>\n",
       "      <td>0</td>\n",
       "      <td>1</td>\n",
       "      <td>0</td>\n",
       "      <td>0</td>\n",
       "      <td>1</td>\n",
       "      <td>0</td>\n",
       "      <td>0</td>\n",
       "      <td>0</td>\n",
       "      <td>1</td>\n",
       "      <td>0</td>\n",
       "    </tr>\n",
       "    <tr>\n",
       "      <th>4</th>\n",
       "      <td>521.0</td>\n",
       "      <td>235.0</td>\n",
       "      <td>99</td>\n",
       "      <td>200</td>\n",
       "      <td>1</td>\n",
       "      <td>5</td>\n",
       "      <td>1</td>\n",
       "      <td>0</td>\n",
       "      <td>0</td>\n",
       "      <td>0</td>\n",
       "      <td>...</td>\n",
       "      <td>1</td>\n",
       "      <td>0</td>\n",
       "      <td>1</td>\n",
       "      <td>0</td>\n",
       "      <td>0</td>\n",
       "      <td>0</td>\n",
       "      <td>0</td>\n",
       "      <td>0</td>\n",
       "      <td>0</td>\n",
       "      <td>1</td>\n",
       "    </tr>\n",
       "  </tbody>\n",
       "</table>\n",
       "<p>5 rows × 26 columns</p>\n",
       "</div>"
      ],
      "text/plain": [
       "   Votes  Reviews  Minorder_Cleansed  AvgCost_Cleansed  Rest_count  \\\n",
       "0   12.0      4.0                 50               200           1   \n",
       "1   11.0      4.0                 50               100           6   \n",
       "2   99.0     30.0                 50               150           3   \n",
       "3  176.0     95.0                 99               250           2   \n",
       "4  521.0    235.0                 99               200           1   \n",
       "\n",
       "   Delivery_TimeCoded  Location_Cleansed_Banglore  Location_Cleansed_Delhi  \\\n",
       "0                   3                           0                        0   \n",
       "1                   3                           1                        0   \n",
       "2                   5                           0                        0   \n",
       "3                   3                           0                        0   \n",
       "4                   5                           1                        0   \n",
       "\n",
       "   Location_Cleansed_Gurgoan  Location_Cleansed_Hyderabad  ...  \\\n",
       "0                          0                            0  ...   \n",
       "1                          0                            0  ...   \n",
       "2                          0                            0  ...   \n",
       "3                          0                            0  ...   \n",
       "4                          0                            0  ...   \n",
       "\n",
       "   Cuisines_Cleansed_Fast Food  Cuisines_Cleansed_Main Course  \\\n",
       "0                            1                              0   \n",
       "1                            0                              0   \n",
       "2                            0                              1   \n",
       "3                            0                              1   \n",
       "4                            1                              0   \n",
       "\n",
       "   Rating_Category_Average  Rating_Category_Excellent  Rating_Category_Good  \\\n",
       "0                        0                          0                     1   \n",
       "1                        0                          0                     1   \n",
       "2                        0                          0                     1   \n",
       "3                        0                          0                     1   \n",
       "4                        1                          0                     0   \n",
       "\n",
       "   Rating_Category_Poor  Rating_Category_Very Good  Rest_category_Chain  \\\n",
       "0                     0                          0                    0   \n",
       "1                     0                          0                    1   \n",
       "2                     0                          0                    0   \n",
       "3                     0                          0                    0   \n",
       "4                     0                          0                    0   \n",
       "\n",
       "   Rest_category_Multiple  Rest_category_Single outlet  \n",
       "0                       0                            1  \n",
       "1                       0                            0  \n",
       "2                       1                            0  \n",
       "3                       1                            0  \n",
       "4                       0                            1  \n",
       "\n",
       "[5 rows x 26 columns]"
      ]
     },
     "execution_count": 244,
     "metadata": {},
     "output_type": "execute_result"
    }
   ],
   "source": [
    "dummytrain.head()"
   ]
  },
  {
   "cell_type": "code",
   "execution_count": 245,
   "metadata": {},
   "outputs": [],
   "source": [
    "# split the data in train and test\n",
    "from sklearn.model_selection import train_test_split"
   ]
  },
  {
   "cell_type": "code",
   "execution_count": 246,
   "metadata": {},
   "outputs": [],
   "source": [
    "x=dummytrain.drop(\"Delivery_TimeCoded\",axis=1)\n",
    "y=dummytrain.Delivery_TimeCoded"
   ]
  },
  {
   "cell_type": "code",
   "execution_count": 247,
   "metadata": {},
   "outputs": [],
   "source": [
    "xtrain,xtest,ytrain,ytest=train_test_split(x,y,test_size=0.2,random_state=10)"
   ]
  },
  {
   "cell_type": "code",
   "execution_count": 248,
   "metadata": {},
   "outputs": [],
   "source": [
    "# scaling the dataset\n",
    "sc=StandardScaler()"
   ]
  },
  {
   "cell_type": "code",
   "execution_count": 249,
   "metadata": {},
   "outputs": [],
   "source": [
    "scaled_train=pd.DataFrame(sc.fit_transform(xtrain),columns=xtrain.columns)"
   ]
  },
  {
   "cell_type": "code",
   "execution_count": 250,
   "metadata": {},
   "outputs": [],
   "source": [
    "xtest=pd.DataFrame(sc.transform(xtest),columns= xtest.columns)"
   ]
  },
  {
   "cell_type": "code",
   "execution_count": 251,
   "metadata": {},
   "outputs": [],
   "source": [
    "# knn model\n",
    "from sklearn.neighbors import KNeighborsClassifier\n",
    "knn=KNeighborsClassifier()"
   ]
  },
  {
   "cell_type": "code",
   "execution_count": 252,
   "metadata": {},
   "outputs": [],
   "source": [
    "#prediction\n",
    "pred_knn=knn.fit(scaled_train,ytrain).predict(xtest)"
   ]
  },
  {
   "cell_type": "code",
   "execution_count": 253,
   "metadata": {},
   "outputs": [],
   "source": [
    "#checking model metrics\n",
    "\n",
    "from sklearn.metrics import accuracy_score,cohen_kappa_score,matthews_corrcoef"
   ]
  },
  {
   "cell_type": "code",
   "execution_count": 254,
   "metadata": {},
   "outputs": [
    {
     "name": "stdout",
     "output_type": "stream",
     "text": [
      "The accuracy : 0.6998648039657503\n",
      "The kappa score : 0.2919601752931015\n",
      "The mcc is : 0.30682423092539934\n"
     ]
    }
   ],
   "source": [
    "print(\"The accuracy :\",accuracy_score(ytest,pred_knn))\n",
    "print(\"The kappa score :\",cohen_kappa_score(ytest,pred_knn))\n",
    "print(\"The mcc is :\",matthews_corrcoef(ytest,pred_knn))\n",
    "\n"
   ]
  },
  {
   "cell_type": "code",
   "execution_count": 255,
   "metadata": {},
   "outputs": [],
   "source": [
    "from sklearn.ensemble import RandomForestClassifier\n",
    "rf=RandomForestClassifier(criterion=\"entropy\")"
   ]
  },
  {
   "cell_type": "code",
   "execution_count": 256,
   "metadata": {},
   "outputs": [
    {
     "name": "stderr",
     "output_type": "stream",
     "text": [
      "C:\\Users\\hp\\Anaconda3\\lib\\site-packages\\sklearn\\ensemble\\forest.py:245: FutureWarning: The default value of n_estimators will change from 10 in version 0.20 to 100 in 0.22.\n",
      "  \"10 in version 0.20 to 100 in 0.22.\", FutureWarning)\n"
     ]
    }
   ],
   "source": [
    "pred_rf=rf.fit(scaled_train,ytrain).predict(xtest)"
   ]
  },
  {
   "cell_type": "code",
   "execution_count": 257,
   "metadata": {},
   "outputs": [
    {
     "name": "stdout",
     "output_type": "stream",
     "text": [
      "The accuracy : 0.7940513744930149\n",
      "The kappa score : 0.546125983145376\n",
      "The mcc is : 0.5527583579637612\n"
     ]
    }
   ],
   "source": [
    "print(\"The accuracy :\",accuracy_score(ytest,pred_rf))\n",
    "print(\"The kappa score :\",cohen_kappa_score(ytest,pred_rf))\n",
    "print(\"The mcc is :\",matthews_corrcoef(ytest,pred_rf))\n"
   ]
  },
  {
   "cell_type": "code",
   "execution_count": 258,
   "metadata": {},
   "outputs": [],
   "source": [
    "from sklearn.tree import DecisionTreeClassifier\n",
    "dtree = DecisionTreeClassifier(criterion= 'entropy')"
   ]
  },
  {
   "cell_type": "code",
   "execution_count": 259,
   "metadata": {},
   "outputs": [],
   "source": [
    "pred = dtree.fit(scaled_train,ytrain).predict(xtest)"
   ]
  },
  {
   "cell_type": "code",
   "execution_count": 260,
   "metadata": {},
   "outputs": [
    {
     "name": "stdout",
     "output_type": "stream",
     "text": [
      "The accuracy : 0.765209553853087\n",
      "The kappa score : 0.5153963747543132\n",
      "The mcc is : 0.5155732986717539\n"
     ]
    }
   ],
   "source": [
    "print(\"The accuracy :\",accuracy_score(ytest,pred))\n",
    "print(\"The kappa score :\",cohen_kappa_score(ytest,pred))\n",
    "print(\"The mcc is :\",matthews_corrcoef(ytest,pred))\n"
   ]
  },
  {
   "cell_type": "markdown",
   "metadata": {},
   "source": [
    "\n",
    "## voting classifier \n",
    "it is ensemble method with the estimators to be defined by the ml specialist"
   ]
  },
  {
   "cell_type": "code",
   "execution_count": 278,
   "metadata": {},
   "outputs": [],
   "source": [
    "# Ensemble Model -- voting classifier\n",
    "## hard voting\n",
    "from sklearn.ensemble import VotingClassifier\n",
    "vc=VotingClassifier(estimators=[(\"tree\",dtree),(\"random\",rf),(\"GBM\",gbm)])"
   ]
  },
  {
   "cell_type": "code",
   "execution_count": 279,
   "metadata": {},
   "outputs": [],
   "source": [
    "pred_vc = vc.fit(scaled_train,ytrain).predict(xtest)"
   ]
  },
  {
   "cell_type": "code",
   "execution_count": 280,
   "metadata": {},
   "outputs": [
    {
     "name": "stdout",
     "output_type": "stream",
     "text": [
      "The accuracy : 0.8102748986029743\n",
      "The kappa score : 0.577251470932953\n",
      "The mcc is : 0.5866708718689707\n"
     ]
    }
   ],
   "source": [
    "print(\"The accuracy :\",accuracy_score(ytest,pred_vc))\n",
    "print(\"The kappa score :\",cohen_kappa_score(ytest,pred_vc))\n",
    "print(\"The mcc is :\",matthews_corrcoef(ytest,pred_vc))\n"
   ]
  },
  {
   "cell_type": "code",
   "execution_count": 264,
   "metadata": {},
   "outputs": [],
   "source": [
    "## soft voting\n",
    "from sklearn.ensemble import VotingClassifier\n",
    "vc=VotingClassifier(estimators=[(\"tree\",dtree),(\"random\",rf),(\"KNN\",knn)],voting='soft')"
   ]
  },
  {
   "cell_type": "code",
   "execution_count": 265,
   "metadata": {},
   "outputs": [],
   "source": [
    "pred_vc_soft = vc.fit(scaled_train,ytrain).predict(xtest)"
   ]
  },
  {
   "cell_type": "code",
   "execution_count": 266,
   "metadata": {},
   "outputs": [
    {
     "name": "stdout",
     "output_type": "stream",
     "text": [
      "The accuracy : 0.800811176205498\n",
      "The kappa score : 0.5657403504546276\n",
      "The mcc is : 0.5711228236609992\n"
     ]
    }
   ],
   "source": [
    "print(\"The accuracy :\",accuracy_score(ytest,pred_vc_soft))\n",
    "print(\"The kappa score :\",cohen_kappa_score(ytest,pred_vc_soft))\n",
    "print(\"The mcc is :\",matthews_corrcoef(ytest,pred_vc_soft))\n"
   ]
  },
  {
   "cell_type": "markdown",
   "metadata": {},
   "source": [
    "## Boosting"
   ]
  },
  {
   "cell_type": "code",
   "execution_count": 267,
   "metadata": {},
   "outputs": [],
   "source": [
    "## Gradient boosting Classifier\n",
    "from sklearn.ensemble import GradientBoostingClassifier\n",
    "gbm=GradientBoostingClassifier()"
   ]
  },
  {
   "cell_type": "code",
   "execution_count": 268,
   "metadata": {},
   "outputs": [],
   "source": [
    "pred_gbm=gbm.fit(scaled_train,ytrain).predict(xtest)"
   ]
  },
  {
   "cell_type": "code",
   "execution_count": 269,
   "metadata": {},
   "outputs": [
    {
     "name": "stdout",
     "output_type": "stream",
     "text": [
      "The accuracy : 0.7413249211356467\n",
      "The kappa score : 0.4050763280159294\n",
      "The mcc is : 0.4175794746606827\n"
     ]
    }
   ],
   "source": [
    "print(\"The accuracy :\",accuracy_score(ytest,pred_gbm))\n",
    "print(\"The kappa score :\",cohen_kappa_score(ytest,pred_gbm))\n",
    "print(\"The mcc is :\",matthews_corrcoef(ytest,pred_gbm))\n"
   ]
  },
  {
   "cell_type": "code",
   "execution_count": 270,
   "metadata": {},
   "outputs": [],
   "source": [
    "from sklearn.model_selection import cross_val_score"
   ]
  },
  {
   "cell_type": "code",
   "execution_count": 271,
   "metadata": {},
   "outputs": [
    {
     "name": "stderr",
     "output_type": "stream",
     "text": [
      "C:\\Users\\hp\\Anaconda3\\lib\\site-packages\\sklearn\\model_selection\\_split.py:657: Warning: The least populated class in y has only 3 members, which is too few. The minimum number of members in any class cannot be less than n_splits=5.\n",
      "  % (min_groups, self.n_splits)), Warning)\n"
     ]
    },
    {
     "data": {
      "text/plain": [
       "0.736117125858186"
      ]
     },
     "execution_count": 271,
     "metadata": {},
     "output_type": "execute_result"
    }
   ],
   "source": [
    "cross_val_score(estimator=gbm,X=scaled_train,y=ytrain,cv=5).mean()"
   ]
  },
  {
   "cell_type": "code",
   "execution_count": 272,
   "metadata": {},
   "outputs": [],
   "source": [
    "## Adaboost\n",
    "from sklearn.ensemble import AdaBoostClassifier\n",
    "ada=AdaBoostClassifier()"
   ]
  },
  {
   "cell_type": "code",
   "execution_count": 273,
   "metadata": {},
   "outputs": [],
   "source": [
    "pred_ada=ada.fit(scaled_train,ytrain).predict(xtest)"
   ]
  },
  {
   "cell_type": "code",
   "execution_count": 274,
   "metadata": {},
   "outputs": [
    {
     "name": "stdout",
     "output_type": "stream",
     "text": [
      "The accuracy : 0.6782334384858044\n",
      "The kappa score : 0.34280269720490186\n",
      "The mcc is : 0.34843363756899115\n"
     ]
    }
   ],
   "source": [
    "print(\"The accuracy :\",accuracy_score(ytest,pred_ada))\n",
    "print(\"The kappa score :\",cohen_kappa_score(ytest,pred_ada))\n",
    "print(\"The mcc is :\",matthews_corrcoef(ytest,pred_ada))\n"
   ]
  },
  {
   "cell_type": "code",
   "execution_count": 275,
   "metadata": {},
   "outputs": [],
   "source": [
    "# bagging classifier\n",
    "from sklearn.ensemble import BaggingClassifier\n",
    "bagg=BaggingClassifier()"
   ]
  },
  {
   "cell_type": "code",
   "execution_count": 276,
   "metadata": {},
   "outputs": [],
   "source": [
    "pred_bag=bagg.fit(scaled_train,ytrain).predict(xtest)"
   ]
  },
  {
   "cell_type": "code",
   "execution_count": 277,
   "metadata": {},
   "outputs": [
    {
     "name": "stdout",
     "output_type": "stream",
     "text": [
      "The accuracy : 0.7836863452005408\n",
      "The kappa score : 0.5299042127753668\n",
      "The mcc is : 0.5340346625553489\n"
     ]
    }
   ],
   "source": [
    "print(\"The accuracy :\",accuracy_score(ytest,pred_bag))\n",
    "print(\"The kappa score :\",cohen_kappa_score(ytest,pred_bag))\n",
    "print(\"The mcc is :\",matthews_corrcoef(ytest,pred_bag))\n"
   ]
  },
  {
   "cell_type": "code",
   "execution_count": 227,
   "metadata": {},
   "outputs": [],
   "source": [
    "## Feature - Restaurant count"
   ]
  },
  {
   "cell_type": "code",
   "execution_count": 228,
   "metadata": {},
   "outputs": [
    {
     "data": {
      "text/plain": [
       "ID_5538    26\n",
       "ID_7184    25\n",
       "ID_2483    24\n",
       "ID_7295    23\n",
       "ID_1209    23\n",
       "ID_4654    23\n",
       "ID_5321    22\n",
       "ID_4625    21\n",
       "ID_2301    20\n",
       "ID_7750    20\n",
       "ID_1140    20\n",
       "ID_8511    19\n",
       "ID_5708    18\n",
       "ID_4906    17\n",
       "ID_188     17\n",
       "ID_3970    17\n",
       "ID_7564    17\n",
       "ID_7544    16\n",
       "ID_694     16\n",
       "ID_720     16\n",
       "ID_3969    16\n",
       "ID_2542    15\n",
       "ID_7260    14\n",
       "ID_6229    14\n",
       "ID_2402    14\n",
       "ID_5952    13\n",
       "ID_2794    12\n",
       "ID_686     12\n",
       "ID_5885    12\n",
       "ID_7501    12\n",
       "           ..\n",
       "ID_2875     1\n",
       "ID_5624     1\n",
       "ID_5185     1\n",
       "ID_6644     1\n",
       "ID_3014     1\n",
       "ID_5064     1\n",
       "ID_4323     1\n",
       "ID_4159     1\n",
       "ID_4816     1\n",
       "ID_5829     1\n",
       "ID_4013     1\n",
       "ID_3569     1\n",
       "ID_7286     1\n",
       "ID_3165     1\n",
       "ID_2129     1\n",
       "ID_6046     1\n",
       "ID_3196     1\n",
       "ID_539      1\n",
       "ID_7231     1\n",
       "ID_131      1\n",
       "ID_4421     1\n",
       "ID_4933     1\n",
       "ID_4614     1\n",
       "ID_759      1\n",
       "ID_8152     1\n",
       "ID_8245     1\n",
       "ID_1757     1\n",
       "ID_4646     1\n",
       "ID_1121     1\n",
       "ID_1785     1\n",
       "Name: Restaurant, Length: 8661, dtype: int64"
      ]
     },
     "execution_count": 228,
     "metadata": {},
     "output_type": "execute_result"
    }
   ],
   "source": [
    "combined.Restaurant.value_counts()"
   ]
  },
  {
   "cell_type": "code",
   "execution_count": 170,
   "metadata": {},
   "outputs": [],
   "source": [
    "combined[\"Rest_count\"]=combined.groupby(\"Restaurant\")[\"Restaurant\"].transform(\"count\")"
   ]
  },
  {
   "cell_type": "code",
   "execution_count": 171,
   "metadata": {},
   "outputs": [
    {
     "data": {
      "text/plain": [
       "count    13868.000000\n",
       "mean         2.883473\n",
       "std          3.707890\n",
       "min          1.000000\n",
       "25%          1.000000\n",
       "50%          2.000000\n",
       "75%          3.000000\n",
       "max         26.000000\n",
       "Name: Rest_count, dtype: float64"
      ]
     },
     "execution_count": 171,
     "metadata": {},
     "output_type": "execute_result"
    }
   ],
   "source": [
    "combined.Rest_count.describe()"
   ]
  },
  {
   "cell_type": "markdown",
   "metadata": {},
   "source": [
    "01- single outlet, uptill 3 : multiple restaurant, >3:chain"
   ]
  },
  {
   "cell_type": "code",
   "execution_count": 172,
   "metadata": {},
   "outputs": [],
   "source": [
    "def restcat(x):\n",
    "    if(x>3):\n",
    "        return(\"Chain\")\n",
    "    elif(x<=3) & (x>1):\n",
    "        return(\"Multiple\")\n",
    "    else:\n",
    "        return(\"Single outlet\")"
   ]
  },
  {
   "cell_type": "code",
   "execution_count": 173,
   "metadata": {},
   "outputs": [],
   "source": [
    "combined[\"Rest_category\"]=combined.Rest_count.apply(restcat)"
   ]
  },
  {
   "cell_type": "code",
   "execution_count": null,
   "metadata": {},
   "outputs": [],
   "source": []
  },
  {
   "cell_type": "code",
   "execution_count": 294,
   "metadata": {},
   "outputs": [],
   "source": [
    "## kaggle submission for test data now"
   ]
  },
  {
   "cell_type": "code",
   "execution_count": 305,
   "metadata": {},
   "outputs": [],
   "source": [
    "dummytest=pd.get_dummies(test_new)"
   ]
  },
  {
   "cell_type": "code",
   "execution_count": 319,
   "metadata": {},
   "outputs": [
    {
     "name": "stdout",
     "output_type": "stream",
     "text": [
      "(2774, 25)\n",
      "(8875, 25)\n"
     ]
    }
   ],
   "source": [
    "print(dummytest.shape)\n",
    "print(scaled_train.shape)"
   ]
  },
  {
   "cell_type": "code",
   "execution_count": 307,
   "metadata": {},
   "outputs": [
    {
     "data": {
      "text/html": [
       "<div>\n",
       "<style scoped>\n",
       "    .dataframe tbody tr th:only-of-type {\n",
       "        vertical-align: middle;\n",
       "    }\n",
       "\n",
       "    .dataframe tbody tr th {\n",
       "        vertical-align: top;\n",
       "    }\n",
       "\n",
       "    .dataframe thead th {\n",
       "        text-align: right;\n",
       "    }\n",
       "</style>\n",
       "<table border=\"1\" class=\"dataframe\">\n",
       "  <thead>\n",
       "    <tr style=\"text-align: right;\">\n",
       "      <th></th>\n",
       "      <th>Votes</th>\n",
       "      <th>Reviews</th>\n",
       "      <th>Minorder_Cleansed</th>\n",
       "      <th>AvgCost_Cleansed</th>\n",
       "      <th>Rest_count</th>\n",
       "      <th>Delivery_TimeCoded</th>\n",
       "      <th>Location_Cleansed_Banglore</th>\n",
       "      <th>Location_Cleansed_Delhi</th>\n",
       "      <th>Location_Cleansed_Gurgoan</th>\n",
       "      <th>Location_Cleansed_Hyderabad</th>\n",
       "      <th>...</th>\n",
       "      <th>Cuisines_Cleansed_Fast Food</th>\n",
       "      <th>Cuisines_Cleansed_Main Course</th>\n",
       "      <th>Rating_Category_Average</th>\n",
       "      <th>Rating_Category_Excellent</th>\n",
       "      <th>Rating_Category_Good</th>\n",
       "      <th>Rating_Category_Poor</th>\n",
       "      <th>Rating_Category_Very Good</th>\n",
       "      <th>Rest_category_Chain</th>\n",
       "      <th>Rest_category_Multiple</th>\n",
       "      <th>Rest_category_Single outlet</th>\n",
       "    </tr>\n",
       "  </thead>\n",
       "  <tbody>\n",
       "    <tr>\n",
       "      <th>0</th>\n",
       "      <td>12.0</td>\n",
       "      <td>4.0</td>\n",
       "      <td>50</td>\n",
       "      <td>200</td>\n",
       "      <td>1</td>\n",
       "      <td>3</td>\n",
       "      <td>0</td>\n",
       "      <td>0</td>\n",
       "      <td>0</td>\n",
       "      <td>0</td>\n",
       "      <td>...</td>\n",
       "      <td>1</td>\n",
       "      <td>0</td>\n",
       "      <td>0</td>\n",
       "      <td>0</td>\n",
       "      <td>1</td>\n",
       "      <td>0</td>\n",
       "      <td>0</td>\n",
       "      <td>0</td>\n",
       "      <td>0</td>\n",
       "      <td>1</td>\n",
       "    </tr>\n",
       "    <tr>\n",
       "      <th>1</th>\n",
       "      <td>11.0</td>\n",
       "      <td>4.0</td>\n",
       "      <td>50</td>\n",
       "      <td>100</td>\n",
       "      <td>6</td>\n",
       "      <td>3</td>\n",
       "      <td>1</td>\n",
       "      <td>0</td>\n",
       "      <td>0</td>\n",
       "      <td>0</td>\n",
       "      <td>...</td>\n",
       "      <td>0</td>\n",
       "      <td>0</td>\n",
       "      <td>0</td>\n",
       "      <td>0</td>\n",
       "      <td>1</td>\n",
       "      <td>0</td>\n",
       "      <td>0</td>\n",
       "      <td>1</td>\n",
       "      <td>0</td>\n",
       "      <td>0</td>\n",
       "    </tr>\n",
       "    <tr>\n",
       "      <th>2</th>\n",
       "      <td>99.0</td>\n",
       "      <td>30.0</td>\n",
       "      <td>50</td>\n",
       "      <td>150</td>\n",
       "      <td>3</td>\n",
       "      <td>5</td>\n",
       "      <td>0</td>\n",
       "      <td>0</td>\n",
       "      <td>0</td>\n",
       "      <td>0</td>\n",
       "      <td>...</td>\n",
       "      <td>0</td>\n",
       "      <td>1</td>\n",
       "      <td>0</td>\n",
       "      <td>0</td>\n",
       "      <td>1</td>\n",
       "      <td>0</td>\n",
       "      <td>0</td>\n",
       "      <td>0</td>\n",
       "      <td>1</td>\n",
       "      <td>0</td>\n",
       "    </tr>\n",
       "    <tr>\n",
       "      <th>3</th>\n",
       "      <td>176.0</td>\n",
       "      <td>95.0</td>\n",
       "      <td>99</td>\n",
       "      <td>250</td>\n",
       "      <td>2</td>\n",
       "      <td>3</td>\n",
       "      <td>0</td>\n",
       "      <td>0</td>\n",
       "      <td>0</td>\n",
       "      <td>0</td>\n",
       "      <td>...</td>\n",
       "      <td>0</td>\n",
       "      <td>1</td>\n",
       "      <td>0</td>\n",
       "      <td>0</td>\n",
       "      <td>1</td>\n",
       "      <td>0</td>\n",
       "      <td>0</td>\n",
       "      <td>0</td>\n",
       "      <td>1</td>\n",
       "      <td>0</td>\n",
       "    </tr>\n",
       "    <tr>\n",
       "      <th>4</th>\n",
       "      <td>521.0</td>\n",
       "      <td>235.0</td>\n",
       "      <td>99</td>\n",
       "      <td>200</td>\n",
       "      <td>1</td>\n",
       "      <td>5</td>\n",
       "      <td>1</td>\n",
       "      <td>0</td>\n",
       "      <td>0</td>\n",
       "      <td>0</td>\n",
       "      <td>...</td>\n",
       "      <td>1</td>\n",
       "      <td>0</td>\n",
       "      <td>1</td>\n",
       "      <td>0</td>\n",
       "      <td>0</td>\n",
       "      <td>0</td>\n",
       "      <td>0</td>\n",
       "      <td>0</td>\n",
       "      <td>0</td>\n",
       "      <td>1</td>\n",
       "    </tr>\n",
       "  </tbody>\n",
       "</table>\n",
       "<p>5 rows × 26 columns</p>\n",
       "</div>"
      ],
      "text/plain": [
       "   Votes  Reviews  Minorder_Cleansed  AvgCost_Cleansed  Rest_count  \\\n",
       "0   12.0      4.0                 50               200           1   \n",
       "1   11.0      4.0                 50               100           6   \n",
       "2   99.0     30.0                 50               150           3   \n",
       "3  176.0     95.0                 99               250           2   \n",
       "4  521.0    235.0                 99               200           1   \n",
       "\n",
       "   Delivery_TimeCoded  Location_Cleansed_Banglore  Location_Cleansed_Delhi  \\\n",
       "0                   3                           0                        0   \n",
       "1                   3                           1                        0   \n",
       "2                   5                           0                        0   \n",
       "3                   3                           0                        0   \n",
       "4                   5                           1                        0   \n",
       "\n",
       "   Location_Cleansed_Gurgoan  Location_Cleansed_Hyderabad  ...  \\\n",
       "0                          0                            0  ...   \n",
       "1                          0                            0  ...   \n",
       "2                          0                            0  ...   \n",
       "3                          0                            0  ...   \n",
       "4                          0                            0  ...   \n",
       "\n",
       "   Cuisines_Cleansed_Fast Food  Cuisines_Cleansed_Main Course  \\\n",
       "0                            1                              0   \n",
       "1                            0                              0   \n",
       "2                            0                              1   \n",
       "3                            0                              1   \n",
       "4                            1                              0   \n",
       "\n",
       "   Rating_Category_Average  Rating_Category_Excellent  Rating_Category_Good  \\\n",
       "0                        0                          0                     1   \n",
       "1                        0                          0                     1   \n",
       "2                        0                          0                     1   \n",
       "3                        0                          0                     1   \n",
       "4                        1                          0                     0   \n",
       "\n",
       "   Rating_Category_Poor  Rating_Category_Very Good  Rest_category_Chain  \\\n",
       "0                     0                          0                    0   \n",
       "1                     0                          0                    1   \n",
       "2                     0                          0                    0   \n",
       "3                     0                          0                    0   \n",
       "4                     0                          0                    0   \n",
       "\n",
       "   Rest_category_Multiple  Rest_category_Single outlet  \n",
       "0                       0                            1  \n",
       "1                       0                            0  \n",
       "2                       1                            0  \n",
       "3                       1                            0  \n",
       "4                       0                            1  \n",
       "\n",
       "[5 rows x 26 columns]"
      ]
     },
     "execution_count": 307,
     "metadata": {},
     "output_type": "execute_result"
    }
   ],
   "source": [
    "dummytrain.head()"
   ]
  },
  {
   "cell_type": "code",
   "execution_count": 308,
   "metadata": {},
   "outputs": [
    {
     "data": {
      "text/html": [
       "<div>\n",
       "<style scoped>\n",
       "    .dataframe tbody tr th:only-of-type {\n",
       "        vertical-align: middle;\n",
       "    }\n",
       "\n",
       "    .dataframe tbody tr th {\n",
       "        vertical-align: top;\n",
       "    }\n",
       "\n",
       "    .dataframe thead th {\n",
       "        text-align: right;\n",
       "    }\n",
       "</style>\n",
       "<table border=\"1\" class=\"dataframe\">\n",
       "  <thead>\n",
       "    <tr style=\"text-align: right;\">\n",
       "      <th></th>\n",
       "      <th>Votes</th>\n",
       "      <th>Reviews</th>\n",
       "      <th>Minorder_Cleansed</th>\n",
       "      <th>AvgCost_Cleansed</th>\n",
       "      <th>Rest_count</th>\n",
       "      <th>Location_Cleansed_Banglore</th>\n",
       "      <th>Location_Cleansed_Delhi</th>\n",
       "      <th>Location_Cleansed_Gurgoan</th>\n",
       "      <th>Location_Cleansed_Hyderabad</th>\n",
       "      <th>Location_Cleansed_Kolkata</th>\n",
       "      <th>...</th>\n",
       "      <th>Cuisines_Cleansed_Fast Food</th>\n",
       "      <th>Cuisines_Cleansed_Main Course</th>\n",
       "      <th>Rating_Category_Average</th>\n",
       "      <th>Rating_Category_Excellent</th>\n",
       "      <th>Rating_Category_Good</th>\n",
       "      <th>Rating_Category_Poor</th>\n",
       "      <th>Rating_Category_Very Good</th>\n",
       "      <th>Rest_category_Chain</th>\n",
       "      <th>Rest_category_Multiple</th>\n",
       "      <th>Rest_category_Single outlet</th>\n",
       "    </tr>\n",
       "  </thead>\n",
       "  <tbody>\n",
       "    <tr>\n",
       "      <th>11094</th>\n",
       "      <td>361.0</td>\n",
       "      <td>225.0</td>\n",
       "      <td>50</td>\n",
       "      <td>350</td>\n",
       "      <td>1</td>\n",
       "      <td>1</td>\n",
       "      <td>0</td>\n",
       "      <td>0</td>\n",
       "      <td>0</td>\n",
       "      <td>0</td>\n",
       "      <td>...</td>\n",
       "      <td>0</td>\n",
       "      <td>1</td>\n",
       "      <td>0</td>\n",
       "      <td>0</td>\n",
       "      <td>0</td>\n",
       "      <td>0</td>\n",
       "      <td>1</td>\n",
       "      <td>0</td>\n",
       "      <td>0</td>\n",
       "      <td>1</td>\n",
       "    </tr>\n",
       "    <tr>\n",
       "      <th>11095</th>\n",
       "      <td>63.0</td>\n",
       "      <td>26.0</td>\n",
       "      <td>50</td>\n",
       "      <td>100</td>\n",
       "      <td>1</td>\n",
       "      <td>1</td>\n",
       "      <td>0</td>\n",
       "      <td>0</td>\n",
       "      <td>0</td>\n",
       "      <td>0</td>\n",
       "      <td>...</td>\n",
       "      <td>0</td>\n",
       "      <td>1</td>\n",
       "      <td>0</td>\n",
       "      <td>0</td>\n",
       "      <td>1</td>\n",
       "      <td>0</td>\n",
       "      <td>0</td>\n",
       "      <td>0</td>\n",
       "      <td>0</td>\n",
       "      <td>1</td>\n",
       "    </tr>\n",
       "    <tr>\n",
       "      <th>11096</th>\n",
       "      <td>36.0</td>\n",
       "      <td>16.0</td>\n",
       "      <td>50</td>\n",
       "      <td>100</td>\n",
       "      <td>2</td>\n",
       "      <td>0</td>\n",
       "      <td>0</td>\n",
       "      <td>0</td>\n",
       "      <td>0</td>\n",
       "      <td>0</td>\n",
       "      <td>...</td>\n",
       "      <td>1</td>\n",
       "      <td>0</td>\n",
       "      <td>0</td>\n",
       "      <td>0</td>\n",
       "      <td>1</td>\n",
       "      <td>0</td>\n",
       "      <td>0</td>\n",
       "      <td>0</td>\n",
       "      <td>1</td>\n",
       "      <td>0</td>\n",
       "    </tr>\n",
       "    <tr>\n",
       "      <th>11097</th>\n",
       "      <td>66.0</td>\n",
       "      <td>33.0</td>\n",
       "      <td>50</td>\n",
       "      <td>200</td>\n",
       "      <td>1</td>\n",
       "      <td>0</td>\n",
       "      <td>1</td>\n",
       "      <td>0</td>\n",
       "      <td>0</td>\n",
       "      <td>0</td>\n",
       "      <td>...</td>\n",
       "      <td>0</td>\n",
       "      <td>0</td>\n",
       "      <td>0</td>\n",
       "      <td>0</td>\n",
       "      <td>1</td>\n",
       "      <td>0</td>\n",
       "      <td>0</td>\n",
       "      <td>0</td>\n",
       "      <td>0</td>\n",
       "      <td>1</td>\n",
       "    </tr>\n",
       "    <tr>\n",
       "      <th>11098</th>\n",
       "      <td>38.0</td>\n",
       "      <td>14.0</td>\n",
       "      <td>50</td>\n",
       "      <td>150</td>\n",
       "      <td>2</td>\n",
       "      <td>0</td>\n",
       "      <td>0</td>\n",
       "      <td>0</td>\n",
       "      <td>0</td>\n",
       "      <td>0</td>\n",
       "      <td>...</td>\n",
       "      <td>1</td>\n",
       "      <td>0</td>\n",
       "      <td>0</td>\n",
       "      <td>0</td>\n",
       "      <td>0</td>\n",
       "      <td>1</td>\n",
       "      <td>0</td>\n",
       "      <td>0</td>\n",
       "      <td>1</td>\n",
       "      <td>0</td>\n",
       "    </tr>\n",
       "  </tbody>\n",
       "</table>\n",
       "<p>5 rows × 25 columns</p>\n",
       "</div>"
      ],
      "text/plain": [
       "       Votes  Reviews  Minorder_Cleansed  AvgCost_Cleansed  Rest_count  \\\n",
       "11094  361.0    225.0                 50               350           1   \n",
       "11095   63.0     26.0                 50               100           1   \n",
       "11096   36.0     16.0                 50               100           2   \n",
       "11097   66.0     33.0                 50               200           1   \n",
       "11098   38.0     14.0                 50               150           2   \n",
       "\n",
       "       Location_Cleansed_Banglore  Location_Cleansed_Delhi  \\\n",
       "11094                           1                        0   \n",
       "11095                           1                        0   \n",
       "11096                           0                        0   \n",
       "11097                           0                        1   \n",
       "11098                           0                        0   \n",
       "\n",
       "       Location_Cleansed_Gurgoan  Location_Cleansed_Hyderabad  \\\n",
       "11094                          0                            0   \n",
       "11095                          0                            0   \n",
       "11096                          0                            0   \n",
       "11097                          0                            0   \n",
       "11098                          0                            0   \n",
       "\n",
       "       Location_Cleansed_Kolkata  ...  Cuisines_Cleansed_Fast Food  \\\n",
       "11094                          0  ...                            0   \n",
       "11095                          0  ...                            0   \n",
       "11096                          0  ...                            1   \n",
       "11097                          0  ...                            0   \n",
       "11098                          0  ...                            1   \n",
       "\n",
       "       Cuisines_Cleansed_Main Course  Rating_Category_Average  \\\n",
       "11094                              1                        0   \n",
       "11095                              1                        0   \n",
       "11096                              0                        0   \n",
       "11097                              0                        0   \n",
       "11098                              0                        0   \n",
       "\n",
       "       Rating_Category_Excellent  Rating_Category_Good  Rating_Category_Poor  \\\n",
       "11094                          0                     0                     0   \n",
       "11095                          0                     1                     0   \n",
       "11096                          0                     1                     0   \n",
       "11097                          0                     1                     0   \n",
       "11098                          0                     0                     1   \n",
       "\n",
       "       Rating_Category_Very Good  Rest_category_Chain  Rest_category_Multiple  \\\n",
       "11094                          1                    0                       0   \n",
       "11095                          0                    0                       0   \n",
       "11096                          0                    0                       1   \n",
       "11097                          0                    0                       0   \n",
       "11098                          0                    0                       1   \n",
       "\n",
       "       Rest_category_Single outlet  \n",
       "11094                            1  \n",
       "11095                            1  \n",
       "11096                            0  \n",
       "11097                            1  \n",
       "11098                            0  \n",
       "\n",
       "[5 rows x 25 columns]"
      ]
     },
     "execution_count": 308,
     "metadata": {},
     "output_type": "execute_result"
    }
   ],
   "source": [
    "dummytest.head()"
   ]
  },
  {
   "cell_type": "code",
   "execution_count": 309,
   "metadata": {},
   "outputs": [],
   "source": [
    "# scaling \n",
    "sc=StandardScaler()"
   ]
  },
  {
   "cell_type": "code",
   "execution_count": 310,
   "metadata": {},
   "outputs": [
    {
     "data": {
      "text/plain": [
       "Index(['Votes', 'Reviews', 'Minorder_Cleansed', 'AvgCost_Cleansed',\n",
       "       'Rest_count', 'Location_Cleansed_Banglore', 'Location_Cleansed_Delhi',\n",
       "       'Location_Cleansed_Gurgoan', 'Location_Cleansed_Hyderabad',\n",
       "       'Location_Cleansed_Kolkata', 'Location_Cleansed_Mumbai',\n",
       "       'Location_Cleansed_Noida', 'Location_Cleansed_Pune',\n",
       "       'Cuisines_Cleansed_Beverages', 'Cuisines_Cleansed_Deserts',\n",
       "       'Cuisines_Cleansed_Fast Food', 'Cuisines_Cleansed_Main Course',\n",
       "       'Rating_Category_Average', 'Rating_Category_Excellent',\n",
       "       'Rating_Category_Good', 'Rating_Category_Poor',\n",
       "       'Rating_Category_Very Good', 'Rest_category_Chain',\n",
       "       'Rest_category_Multiple', 'Rest_category_Single outlet'],\n",
       "      dtype='object')"
      ]
     },
     "execution_count": 310,
     "metadata": {},
     "output_type": "execute_result"
    }
   ],
   "source": [
    "train.columns"
   ]
  },
  {
   "cell_type": "code",
   "execution_count": 313,
   "metadata": {},
   "outputs": [],
   "source": [
    "train_scaled=pd.DataFrame(sc.fit_transform(dummytrain.drop(\"Delivery_TimeCoded\",axis=1)))"
   ]
  },
  {
   "cell_type": "code",
   "execution_count": 314,
   "metadata": {},
   "outputs": [],
   "source": [
    "cols=dummytrain.columns[dummytrain.columns!=\"Delivery_TimeCoded\"]"
   ]
  },
  {
   "cell_type": "code",
   "execution_count": 315,
   "metadata": {},
   "outputs": [],
   "source": [
    "test_scaled=pd.DataFrame(sc.fit_transform(dummytest),columns=dummytest.columns)"
   ]
  },
  {
   "cell_type": "code",
   "execution_count": 316,
   "metadata": {},
   "outputs": [
    {
     "data": {
      "text/plain": [
       "Index(['Votes', 'Reviews', 'Minorder_Cleansed', 'AvgCost_Cleansed',\n",
       "       'Rest_count', 'Location_Cleansed_Banglore', 'Location_Cleansed_Delhi',\n",
       "       'Location_Cleansed_Gurgoan', 'Location_Cleansed_Hyderabad',\n",
       "       'Location_Cleansed_Kolkata', 'Location_Cleansed_Mumbai',\n",
       "       'Location_Cleansed_Noida', 'Location_Cleansed_Pune',\n",
       "       'Cuisines_Cleansed_Beverages', 'Cuisines_Cleansed_Deserts',\n",
       "       'Cuisines_Cleansed_Fast Food', 'Cuisines_Cleansed_Main Course',\n",
       "       'Rating_Category_Average', 'Rating_Category_Excellent',\n",
       "       'Rating_Category_Good', 'Rating_Category_Poor',\n",
       "       'Rating_Category_Very Good', 'Rest_category_Chain',\n",
       "       'Rest_category_Multiple', 'Rest_category_Single outlet'],\n",
       "      dtype='object')"
      ]
     },
     "execution_count": 316,
     "metadata": {},
     "output_type": "execute_result"
    }
   ],
   "source": [
    "test_scaled.columns"
   ]
  },
  {
   "cell_type": "code",
   "execution_count": 317,
   "metadata": {},
   "outputs": [],
   "source": [
    "# Ensemble Model -- voting classifier\n",
    "## hard voting\n",
    "from sklearn.ensemble import VotingClassifier\n",
    "vc1=VotingClassifier(estimators=[(\"tree\",dtree),(\"random\",rf),(\"GBM\",gbm)])"
   ]
  },
  {
   "cell_type": "code",
   "execution_count": 320,
   "metadata": {},
   "outputs": [],
   "source": [
    "pred_vc1 = vc1.fit(train_scaled,dummytrain.Delivery_TimeCoded).predict(test_scaled)"
   ]
  },
  {
   "cell_type": "code",
   "execution_count": null,
   "metadata": {},
   "outputs": [],
   "source": [
    "pd.DataFrame()"
   ]
  },
  {
   "cell_type": "code",
   "execution_count": 298,
   "metadata": {},
   "outputs": [],
   "source": [
    "def convertpredictions(x):\n",
    "    if(x==0):\n",
    "        return(\"10 Minutes\")\n",
    "    elif(x==1):\n",
    "        return(\"120 Minutes\")\n",
    "    elif(x==2):\n",
    "        return(\"20 Minutes\")\n",
    "    elif(x==3):\n",
    "        return(\"30 Minutes\")\n",
    "    elif(x==4):\n",
    "        return(\"45 Minutes\")\n",
    "    elif(x==5):\n",
    "        return(\"65 Minutes\")\n",
    "    else:\n",
    "        return(\"80 Minutes\")\n",
    "    "
   ]
  },
  {
   "cell_type": "code",
   "execution_count": null,
   "metadata": {},
   "outputs": [],
   "source": [
    "## understanding bias and variance\n",
    "1.The statistical models are high on bias because these models are not able to capture the pattern well\n",
    "and hence they are underperforming models.\n",
    "2.in order to remove the effect of non learning for ml algorithm, we need to do lot of transformation so that th data is as per ML \n",
    "algo is as per the Ml algo which can help in understanding the pattern well.\n",
    "3. Having said"
   ]
  },
  {
   "cell_type": "code",
   "execution_count": 322,
   "metadata": {},
   "outputs": [],
   "source": [
    "df=pd.DataFrame(pred_vc1,columns=[\"Delivery_Time\"])"
   ]
  },
  {
   "cell_type": "code",
   "execution_count": 323,
   "metadata": {},
   "outputs": [],
   "source": [
    "df[\"Delivery_Time\"]=df.Delivery_Time.apply(convertpredictions)"
   ]
  },
  {
   "cell_type": "code",
   "execution_count": 324,
   "metadata": {},
   "outputs": [],
   "source": [
    "df.to_excel(\"Delivery_Time.xlsx\",index=False)"
   ]
  },
  {
   "cell_type": "code",
   "execution_count": null,
   "metadata": {},
   "outputs": [],
   "source": []
  }
 ],
 "metadata": {
  "kernelspec": {
   "display_name": "Python 3",
   "language": "python",
   "name": "python3"
  },
  "language_info": {
   "codemirror_mode": {
    "name": "ipython",
    "version": 3
   },
   "file_extension": ".py",
   "mimetype": "text/x-python",
   "name": "python",
   "nbconvert_exporter": "python",
   "pygments_lexer": "ipython3",
   "version": "3.7.3"
  }
 },
 "nbformat": 4,
 "nbformat_minor": 2
}
